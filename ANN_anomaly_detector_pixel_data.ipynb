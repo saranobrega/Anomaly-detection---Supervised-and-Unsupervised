{
 "cells": [
  {
   "cell_type": "markdown",
   "metadata": {},
   "source": [
    "## In this notebook: ANN classifer model using both good and noisy pixel data"
   ]
  },
  {
   "cell_type": "code",
   "execution_count": 1,
   "metadata": {},
   "outputs": [
    {
     "name": "stderr",
     "output_type": "stream",
     "text": [
      "/opt/anaconda3/lib/python3.7/site-packages/sklearn/linear_model/least_angle.py:30: DeprecationWarning: `np.float` is a deprecated alias for the builtin `float`. To silence this warning, use `float` by itself. Doing this will not modify any behavior and is safe. If you specifically wanted the numpy scalar type, use `np.float64` here.\n",
      "Deprecated in NumPy 1.20; for more details and guidance: https://numpy.org/devdocs/release/1.20.0-notes.html#deprecations\n",
      "  method='lar', copy_X=True, eps=np.finfo(np.float).eps,\n",
      "/opt/anaconda3/lib/python3.7/site-packages/sklearn/linear_model/least_angle.py:167: DeprecationWarning: `np.float` is a deprecated alias for the builtin `float`. To silence this warning, use `float` by itself. Doing this will not modify any behavior and is safe. If you specifically wanted the numpy scalar type, use `np.float64` here.\n",
      "Deprecated in NumPy 1.20; for more details and guidance: https://numpy.org/devdocs/release/1.20.0-notes.html#deprecations\n",
      "  method='lar', copy_X=True, eps=np.finfo(np.float).eps,\n",
      "/opt/anaconda3/lib/python3.7/site-packages/sklearn/linear_model/least_angle.py:284: DeprecationWarning: `np.float` is a deprecated alias for the builtin `float`. To silence this warning, use `float` by itself. Doing this will not modify any behavior and is safe. If you specifically wanted the numpy scalar type, use `np.float64` here.\n",
      "Deprecated in NumPy 1.20; for more details and guidance: https://numpy.org/devdocs/release/1.20.0-notes.html#deprecations\n",
      "  eps=np.finfo(np.float).eps, copy_Gram=True, verbose=0,\n",
      "/opt/anaconda3/lib/python3.7/site-packages/sklearn/linear_model/least_angle.py:862: DeprecationWarning: `np.float` is a deprecated alias for the builtin `float`. To silence this warning, use `float` by itself. Doing this will not modify any behavior and is safe. If you specifically wanted the numpy scalar type, use `np.float64` here.\n",
      "Deprecated in NumPy 1.20; for more details and guidance: https://numpy.org/devdocs/release/1.20.0-notes.html#deprecations\n",
      "  eps=np.finfo(np.float).eps, copy_X=True, fit_path=True,\n",
      "/opt/anaconda3/lib/python3.7/site-packages/sklearn/linear_model/least_angle.py:1101: DeprecationWarning: `np.float` is a deprecated alias for the builtin `float`. To silence this warning, use `float` by itself. Doing this will not modify any behavior and is safe. If you specifically wanted the numpy scalar type, use `np.float64` here.\n",
      "Deprecated in NumPy 1.20; for more details and guidance: https://numpy.org/devdocs/release/1.20.0-notes.html#deprecations\n",
      "  eps=np.finfo(np.float).eps, copy_X=True, fit_path=True,\n",
      "/opt/anaconda3/lib/python3.7/site-packages/sklearn/linear_model/least_angle.py:1127: DeprecationWarning: `np.float` is a deprecated alias for the builtin `float`. To silence this warning, use `float` by itself. Doing this will not modify any behavior and is safe. If you specifically wanted the numpy scalar type, use `np.float64` here.\n",
      "Deprecated in NumPy 1.20; for more details and guidance: https://numpy.org/devdocs/release/1.20.0-notes.html#deprecations\n",
      "  eps=np.finfo(np.float).eps, positive=False):\n",
      "/opt/anaconda3/lib/python3.7/site-packages/sklearn/linear_model/least_angle.py:1362: DeprecationWarning: `np.float` is a deprecated alias for the builtin `float`. To silence this warning, use `float` by itself. Doing this will not modify any behavior and is safe. If you specifically wanted the numpy scalar type, use `np.float64` here.\n",
      "Deprecated in NumPy 1.20; for more details and guidance: https://numpy.org/devdocs/release/1.20.0-notes.html#deprecations\n",
      "  max_n_alphas=1000, n_jobs=None, eps=np.finfo(np.float).eps,\n",
      "/opt/anaconda3/lib/python3.7/site-packages/sklearn/linear_model/least_angle.py:1602: DeprecationWarning: `np.float` is a deprecated alias for the builtin `float`. To silence this warning, use `float` by itself. Doing this will not modify any behavior and is safe. If you specifically wanted the numpy scalar type, use `np.float64` here.\n",
      "Deprecated in NumPy 1.20; for more details and guidance: https://numpy.org/devdocs/release/1.20.0-notes.html#deprecations\n",
      "  max_n_alphas=1000, n_jobs=None, eps=np.finfo(np.float).eps,\n",
      "/opt/anaconda3/lib/python3.7/site-packages/sklearn/linear_model/least_angle.py:1738: DeprecationWarning: `np.float` is a deprecated alias for the builtin `float`. To silence this warning, use `float` by itself. Doing this will not modify any behavior and is safe. If you specifically wanted the numpy scalar type, use `np.float64` here.\n",
      "Deprecated in NumPy 1.20; for more details and guidance: https://numpy.org/devdocs/release/1.20.0-notes.html#deprecations\n",
      "  eps=np.finfo(np.float).eps, copy_X=True, positive=False):\n",
      "/opt/anaconda3/lib/python3.7/site-packages/sklearn/decomposition/online_lda.py:29: DeprecationWarning: `np.float` is a deprecated alias for the builtin `float`. To silence this warning, use `float` by itself. Doing this will not modify any behavior and is safe. If you specifically wanted the numpy scalar type, use `np.float64` here.\n",
      "Deprecated in NumPy 1.20; for more details and guidance: https://numpy.org/devdocs/release/1.20.0-notes.html#deprecations\n",
      "  EPS = np.finfo(np.float).eps\n",
      "/opt/anaconda3/lib/python3.7/site-packages/sklearn/ensemble/gradient_boosting.py:32: DeprecationWarning: `np.bool` is a deprecated alias for the builtin `bool`. To silence this warning, use `bool` by itself. Doing this will not modify any behavior and is safe. If you specifically wanted the numpy scalar type, use `np.bool_` here.\n",
      "Deprecated in NumPy 1.20; for more details and guidance: https://numpy.org/devdocs/release/1.20.0-notes.html#deprecations\n",
      "  from ._gradient_boosting import predict_stages\n",
      "/opt/anaconda3/lib/python3.7/site-packages/sklearn/ensemble/gradient_boosting.py:32: DeprecationWarning: `np.bool` is a deprecated alias for the builtin `bool`. To silence this warning, use `bool` by itself. Doing this will not modify any behavior and is safe. If you specifically wanted the numpy scalar type, use `np.bool_` here.\n",
      "Deprecated in NumPy 1.20; for more details and guidance: https://numpy.org/devdocs/release/1.20.0-notes.html#deprecations\n",
      "  from ._gradient_boosting import predict_stages\n"
     ]
    }
   ],
   "source": [
    "import warnings\n",
    "warnings.filterwarnings('ignore')\n",
    "import pandas as pd\n",
    "import numpy as np\n",
    "import tensorflow as tf\n",
    "from tensorflow.keras.datasets import mnist\n",
    "import numpy as np\n",
    "import tensorflow as tf\n",
    "import tensorflow as tf\n",
    "from tensorflow.keras.models import load_model\n",
    "from tensorflow import keras\n",
    "from tensorflow.keras import datasets\n",
    "import tensorflow\n",
    "from tensorflow.keras import datasets\n",
    "from tensorflow.keras.optimizers import SGD\n",
    "from tensorflow.keras.models import Sequential\n",
    "from tensorflow.keras.layers import Conv2D, Dropout, GlobalAveragePooling2D, Softmax\n",
    "import matplotlib.pyplot as plt\n",
    "from sklearn.ensemble import IsolationForest\n",
    "import matplotlib.pyplot as plt \n",
    "import seaborn as sns\n",
    "from sklearn.model_selection import train_test_split\n",
    "import pandas as pd\n",
    "import warnings\n",
    "warnings.filterwarnings('ignore')"
   ]
  },
  {
   "cell_type": "code",
   "execution_count": 2,
   "metadata": {},
   "outputs": [],
   "source": [
    "train = pd.read_csv(\"mnist_train.csv\")\n",
    "train_reduced=train[0:3000]\n",
    "train_reduced=train_reduced.assign(label=0)"
   ]
  },
  {
   "cell_type": "code",
   "execution_count": 3,
   "metadata": {},
   "outputs": [
    {
     "data": {
      "text/html": [
       "<div>\n",
       "<style scoped>\n",
       "    .dataframe tbody tr th:only-of-type {\n",
       "        vertical-align: middle;\n",
       "    }\n",
       "\n",
       "    .dataframe tbody tr th {\n",
       "        vertical-align: top;\n",
       "    }\n",
       "\n",
       "    .dataframe thead th {\n",
       "        text-align: right;\n",
       "    }\n",
       "</style>\n",
       "<table border=\"1\" class=\"dataframe\">\n",
       "  <thead>\n",
       "    <tr style=\"text-align: right;\">\n",
       "      <th></th>\n",
       "      <th>label</th>\n",
       "      <th>1x1</th>\n",
       "      <th>1x2</th>\n",
       "      <th>1x3</th>\n",
       "      <th>1x4</th>\n",
       "      <th>1x5</th>\n",
       "      <th>1x6</th>\n",
       "      <th>1x7</th>\n",
       "      <th>1x8</th>\n",
       "      <th>1x9</th>\n",
       "      <th>...</th>\n",
       "      <th>28x19</th>\n",
       "      <th>28x20</th>\n",
       "      <th>28x21</th>\n",
       "      <th>28x22</th>\n",
       "      <th>28x23</th>\n",
       "      <th>28x24</th>\n",
       "      <th>28x25</th>\n",
       "      <th>28x26</th>\n",
       "      <th>28x27</th>\n",
       "      <th>28x28</th>\n",
       "    </tr>\n",
       "  </thead>\n",
       "  <tbody>\n",
       "    <tr>\n",
       "      <td>0</td>\n",
       "      <td>0</td>\n",
       "      <td>0</td>\n",
       "      <td>0</td>\n",
       "      <td>0</td>\n",
       "      <td>0</td>\n",
       "      <td>0</td>\n",
       "      <td>0</td>\n",
       "      <td>0</td>\n",
       "      <td>0</td>\n",
       "      <td>0</td>\n",
       "      <td>...</td>\n",
       "      <td>0</td>\n",
       "      <td>0</td>\n",
       "      <td>0</td>\n",
       "      <td>0</td>\n",
       "      <td>0</td>\n",
       "      <td>0</td>\n",
       "      <td>0</td>\n",
       "      <td>0</td>\n",
       "      <td>0</td>\n",
       "      <td>0</td>\n",
       "    </tr>\n",
       "    <tr>\n",
       "      <td>1</td>\n",
       "      <td>0</td>\n",
       "      <td>0</td>\n",
       "      <td>0</td>\n",
       "      <td>0</td>\n",
       "      <td>0</td>\n",
       "      <td>0</td>\n",
       "      <td>0</td>\n",
       "      <td>0</td>\n",
       "      <td>0</td>\n",
       "      <td>0</td>\n",
       "      <td>...</td>\n",
       "      <td>0</td>\n",
       "      <td>0</td>\n",
       "      <td>0</td>\n",
       "      <td>0</td>\n",
       "      <td>0</td>\n",
       "      <td>0</td>\n",
       "      <td>0</td>\n",
       "      <td>0</td>\n",
       "      <td>0</td>\n",
       "      <td>0</td>\n",
       "    </tr>\n",
       "    <tr>\n",
       "      <td>2</td>\n",
       "      <td>0</td>\n",
       "      <td>0</td>\n",
       "      <td>0</td>\n",
       "      <td>0</td>\n",
       "      <td>0</td>\n",
       "      <td>0</td>\n",
       "      <td>0</td>\n",
       "      <td>0</td>\n",
       "      <td>0</td>\n",
       "      <td>0</td>\n",
       "      <td>...</td>\n",
       "      <td>0</td>\n",
       "      <td>0</td>\n",
       "      <td>0</td>\n",
       "      <td>0</td>\n",
       "      <td>0</td>\n",
       "      <td>0</td>\n",
       "      <td>0</td>\n",
       "      <td>0</td>\n",
       "      <td>0</td>\n",
       "      <td>0</td>\n",
       "    </tr>\n",
       "  </tbody>\n",
       "</table>\n",
       "<p>3 rows × 785 columns</p>\n",
       "</div>"
      ],
      "text/plain": [
       "   label  1x1  1x2  1x3  1x4  1x5  1x6  1x7  1x8  1x9  ...  28x19  28x20  \\\n",
       "0      0    0    0    0    0    0    0    0    0    0  ...      0      0   \n",
       "1      0    0    0    0    0    0    0    0    0    0  ...      0      0   \n",
       "2      0    0    0    0    0    0    0    0    0    0  ...      0      0   \n",
       "\n",
       "   28x21  28x22  28x23  28x24  28x25  28x26  28x27  28x28  \n",
       "0      0      0      0      0      0      0      0      0  \n",
       "1      0      0      0      0      0      0      0      0  \n",
       "2      0      0      0      0      0      0      0      0  \n",
       "\n",
       "[3 rows x 785 columns]"
      ]
     },
     "execution_count": 3,
     "metadata": {},
     "output_type": "execute_result"
    }
   ],
   "source": [
    "train_reduced.head(3)"
   ]
  },
  {
   "cell_type": "code",
   "execution_count": 85,
   "metadata": {},
   "outputs": [],
   "source": [
    "# good data for predictions\n",
    "predictions_good=train[9000:10600]"
   ]
  },
  {
   "cell_type": "markdown",
   "metadata": {},
   "source": [
    "### Making Noisy Data"
   ]
  },
  {
   "cell_type": "markdown",
   "metadata": {},
   "source": [
    "#### First type of noise"
   ]
  },
  {
   "cell_type": "code",
   "execution_count": 7,
   "metadata": {},
   "outputs": [],
   "source": [
    "noisy_train1=train[5000:6000]\n",
    "noisy_train1['10x17'] = noisy_train1['10x17'].replace(0, 0.5, regex=True)\n",
    "noisy_train1['11x17'] = noisy_train1['11x17'].replace(0, 0.5, regex=True)\n",
    "noisy_train1['12x17'] = noisy_train1['12x17'].replace(0, 0.5, regex=True)\n",
    "noisy_train1['13x17'] = noisy_train1['13x17'].replace(0, 0.5, regex=True)\n",
    "noisy_train1['14x17'] = noisy_train1['14x17'].replace(0, 0.5, regex=True)\n",
    "noisy_train1['15x17'] = noisy_train1['15x17'].replace(0, 0.5, regex=True)\n",
    "noisy_train1 = noisy_train1.assign(label=1)"
   ]
  },
  {
   "cell_type": "code",
   "execution_count": 8,
   "metadata": {},
   "outputs": [
    {
     "name": "stdout",
     "output_type": "stream",
     "text": [
      "[1]\n"
     ]
    }
   ],
   "source": [
    "print(np.unique(noisy_train1['label']))"
   ]
  },
  {
   "cell_type": "code",
   "execution_count": 9,
   "metadata": {},
   "outputs": [
    {
     "data": {
      "image/png": "[encoded data removed]",
      "text/plain": [
       "<Figure size 288x288 with 1 Axes>"
      ]
     },
     "metadata": {
      "needs_background": "light"
     },
     "output_type": "display_data"
    }
   ],
   "source": [
    "def pixel_mat(row):\n",
    "    # we're working with train_df so we want to drop the label column\n",
    "    vec = noisy_train1.drop('label', axis=1).iloc[row].values\n",
    "    #vec = x_train_noisy.iloc[row].values\n",
    "    pixel_mat = vec.reshape(28,28)\n",
    "    return pixel_mat\n",
    "plt.matshow(pixel_mat(0), cmap=plt.cm.gray)\n",
    "#plt.title(\"Digit Label: %d\" % train['label'].iloc[x])\n",
    "plt.show()"
   ]
  },
  {
   "cell_type": "markdown",
   "metadata": {},
   "source": [
    "#### Second type of noise"
   ]
  },
  {
   "cell_type": "code",
   "execution_count": 10,
   "metadata": {},
   "outputs": [
    {
     "data": {
      "image/png": "[encoded data removed]",
      "text/plain": [
       "<Figure size 288x288 with 1 Axes>"
      ]
     },
     "metadata": {
      "needs_background": "light"
     },
     "output_type": "display_data"
    },
    {
     "name": "stdout",
     "output_type": "stream",
     "text": [
      "[1]\n"
     ]
    }
   ],
   "source": [
    "noisy_train2=train[6000:6500]\n",
    "noise_factor = 0.01\n",
    "label=noisy_train2['label']\n",
    "clean_signal = pd.DataFrame(noisy_train2, dtype=float) \n",
    "clean_signal = noisy_train2.drop('label', axis=1)\n",
    "x_train_noisy = clean_signal + noise_factor * np.random.normal(loc=0.0, scale=1.0, size=(500, 784)) \n",
    "x_train_noisy = np.clip(x_train_noisy, 0, 0.4)\n",
    "noisy_train2 = pd.concat([label,x_train_noisy], axis=1)\n",
    "#assigning labels\n",
    "noisy_train2 = noisy_train2.assign(label=1)\n",
    "def pixel_mat(row):\n",
    "    # we're working with train_df so we want to drop the label column\n",
    "    vec = noisy_train2.drop('label', axis=1).iloc[row].values\n",
    "    #vec = x_train_noisy.iloc[row].values\n",
    "    pixel_mat = vec.reshape(28,28)\n",
    "    return pixel_mat\n",
    "plt.matshow(pixel_mat(0), cmap=plt.cm.gray)\n",
    "#plt.title(\"Digit Label: %d\" % train['label'].iloc[x])\n",
    "plt.show()\n",
    "print(np.unique(noisy_train2['label']))"
   ]
  },
  {
   "cell_type": "markdown",
   "metadata": {},
   "source": [
    "#### Third type of noise"
   ]
  },
  {
   "cell_type": "code",
   "execution_count": 11,
   "metadata": {},
   "outputs": [
    {
     "data": {
      "image/png": "[encoded data removed]",
      "text/plain": [
       "<Figure size 288x288 with 1 Axes>"
      ]
     },
     "metadata": {
      "needs_background": "light"
     },
     "output_type": "display_data"
    },
    {
     "name": "stdout",
     "output_type": "stream",
     "text": [
      "[1]\n"
     ]
    }
   ],
   "source": [
    "noisy_train3=train[6500:6700]\n",
    "noise_factor = 0.1\n",
    "label=noisy_train3['label']\n",
    "clean_signal = pd.DataFrame(noisy_train3, dtype=float) \n",
    "clean_signal = noisy_train3.drop('label', axis=1)\n",
    "x_train_noisy = clean_signal + noise_factor * np.random.normal(loc=0.0, scale=1.0, size=(200, 784)) \n",
    "x_train_noisy = np.clip(x_train_noisy, 0, 2)\n",
    "noisy_train3 = pd.concat([label,x_train_noisy], axis=1)\n",
    "\n",
    "\n",
    "#assigning labels\n",
    "noisy_train3 = noisy_train3.assign(label=1)\n",
    "def pixel_mat(row):\n",
    "    # we're working with train_df so we want to drop the label column\n",
    "    vec = noisy_train3.drop('label', axis=1).iloc[row].values\n",
    "    #vec = x_train_noisy.iloc[row].values\n",
    "    pixel_mat = vec.reshape(28,28)\n",
    "    return pixel_mat\n",
    "plt.matshow(pixel_mat(5), cmap=plt.cm.gray)\n",
    "#plt.title(\"Digit Label: %d\" % train['label'].iloc[x])\n",
    "plt.show()\n",
    "print(np.unique(noisy_train3['label']))"
   ]
  },
  {
   "cell_type": "markdown",
   "metadata": {},
   "source": [
    "#### Fourth type of noise"
   ]
  },
  {
   "cell_type": "code",
   "execution_count": 12,
   "metadata": {},
   "outputs": [
    {
     "data": {
      "image/png": "[encoded data removed]",
      "text/plain": [
       "<Figure size 288x288 with 1 Axes>"
      ]
     },
     "metadata": {
      "needs_background": "light"
     },
     "output_type": "display_data"
    },
    {
     "name": "stdout",
     "output_type": "stream",
     "text": [
      "[1]\n"
     ]
    }
   ],
   "source": [
    "noisy_train4=train[6700:6750]\n",
    "noise_factor = 0.5\n",
    "label=noisy_train4['label']\n",
    "clean_signal = pd.DataFrame(noisy_train4, dtype=float) \n",
    "clean_signal = noisy_train4.drop('label', axis=1)\n",
    "x_train_noisy = clean_signal + noise_factor * np.random.normal(loc=0.0, scale=1.0, size=(50, 784)) \n",
    "x_train_noisy = np.clip(x_train_noisy, 0, 2)\n",
    "noisy_train4 = pd.concat([label,x_train_noisy], axis=1)\n",
    "#assigning labels\n",
    "noisy_train4 = noisy_train4.assign(label=1)\n",
    "def pixel_mat(row):\n",
    "    # we're working with train_df so we want to drop the label column\n",
    "    vec = noisy_train4.drop('label', axis=1).iloc[row].values\n",
    "    #vec = x_train_noisy.iloc[row].values\n",
    "    pixel_mat = vec.reshape(28,28)\n",
    "    return pixel_mat\n",
    "plt.matshow(pixel_mat(0), cmap=plt.cm.gray)\n",
    "#plt.title(\"Digit Label: %d\" % train['label'].iloc[x])\n",
    "plt.show()\n",
    "print(np.unique(noisy_train4['label']))"
   ]
  },
  {
   "cell_type": "code",
   "execution_count": 13,
   "metadata": {},
   "outputs": [],
   "source": [
    "train_noisy_all=pd.concat([noisy_train1,noisy_train2,noisy_train3,noisy_train4],ignore_index=True)\n",
    "#train_all2 = pd.concat([train_reduced,noisy_train],ignore_index=True)"
   ]
  },
  {
   "cell_type": "markdown",
   "metadata": {},
   "source": [
    "#### Creating other noisy samples for predictions"
   ]
  },
  {
   "cell_type": "code",
   "execution_count": 14,
   "metadata": {},
   "outputs": [
    {
     "data": {
      "image/png": "[encoded data removed]",
      "text/plain": [
       "<Figure size 288x288 with 1 Axes>"
      ]
     },
     "metadata": {
      "needs_background": "light"
     },
     "output_type": "display_data"
    }
   ],
   "source": [
    "#First type #noisy_data_predictions1\n",
    "noisy_data_predictions1=train[8000:8100]\n",
    "\n",
    "noisy_data_predictions1['10x17'] = noisy_data_predictions1['10x17'].replace(0, 0.5, regex=True)\n",
    "noisy_data_predictions1['11x17'] = noisy_data_predictions1['11x17'].replace(0, 0.5, regex=True)\n",
    "noisy_data_predictions1['12x17'] = noisy_data_predictions1['12x17'].replace(0, 0.5, regex=True)\n",
    "noisy_data_predictions1['13x17'] = noisy_data_predictions1['13x17'].replace(0, 0.5, regex=True)\n",
    "noisy_data_predictions1['14x17'] = noisy_data_predictions1['14x17'].replace(0, 0.5, regex=True)\n",
    "noisy_data_predictions1['15x17'] = noisy_data_predictions1['15x17'].replace(0, 0.5, regex=True)\n",
    "noisy_data_predictions1 = noisy_data_predictions1.drop('label', axis=1)\n",
    "\n",
    "#Second Type \n",
    "\n",
    "noisy_data_predictions2=train[8100:8200]\n",
    "noise_factor2 = 0.01\n",
    "label=noisy_data_predictions2['label']\n",
    "clean_signal = pd.DataFrame(noisy_data_predictions2, dtype=float) \n",
    "clean_signal = noisy_data_predictions2.drop('label', axis=1)\n",
    "noisy_data_predictions2 = clean_signal + noise_factor2 * np.random.normal(loc=0.0, scale=1.0, size=(100, 784)) \n",
    "noisy_data_predictions2= np.clip(noisy_data_predictions2, 0, 0.4)\n",
    "\n",
    "#Third type\n",
    "noise_factor3 = 0.1\n",
    "noisy_data_predictions3=train[8200:8300]\n",
    "clean_signal2 = pd.DataFrame(noisy_data_predictions3, dtype=float) \n",
    "clean_signal2 = noisy_data_predictions3.drop('label', axis=1)\n",
    "noisy_data_predictions3 = clean_signal2 + noise_factor3 * np.random.normal(loc=0.0, scale=1.0, size=(100, 784))\n",
    "noisy_data_predictions3  = np.clip(noisy_data_predictions3, 0, 2)\n",
    "\n",
    "\n",
    "#Fourth type\n",
    "noisy_data_predictions4=train[8300:8400]\n",
    "noise_factor4 = 0.5\n",
    "label=noisy_data_predictions4['label']\n",
    "clean_signal = pd.DataFrame(noisy_data_predictions4, dtype=float) \n",
    "clean_signal = noisy_data_predictions4.drop('label', axis=1)\n",
    "noisy_data_predictions4 = clean_signal + noise_factor4 * np.random.normal(loc=0.0, scale=1.0, size=(100, 784)) \n",
    "noisy_data_predictions4 = np.clip(noisy_data_predictions4 , 0, 2)\n",
    "\n",
    "def pixel_mat(row):\n",
    "    # we're working with train_df so we want to drop the label column\n",
    "    #vec = noisy_predictions.drop('label', axis=1).iloc[row].values\n",
    "    vec = noisy_data_predictions3.iloc[row].values\n",
    "    pixel_mat = vec.reshape(28,28)\n",
    "    return pixel_mat\n",
    "plt.matshow(pixel_mat(8), cmap=plt.cm.gray)\n",
    "#plt.title(\"Digit Label: %d\" % train['label'].iloc[x])\n",
    "plt.show()\n"
   ]
  },
  {
   "cell_type": "markdown",
   "metadata": {},
   "source": [
    "#### Joining datasets"
   ]
  },
  {
   "cell_type": "code",
   "execution_count": 15,
   "metadata": {},
   "outputs": [],
   "source": [
    "train_all2 = pd.concat([train_reduced,train_noisy_all],ignore_index=True)\n",
    "#with noise\n",
    "df_x_noisy=train_all2.iloc[:,1:]\n",
    "df_y_noisy=train_all2.iloc[:,0]\n",
    "\n",
    "#without noise\n",
    "df_x=train_reduced.iloc[:,1:]\n",
    "df_y=train_reduced.iloc[:,0]\n",
    "\n",
    "#Check the frequency of each number\n",
    "df_y.value_counts().sort_index()\n",
    "\n",
    "#Split the dataset\n",
    "X_train, X_test, y_train, y_test = train_test_split(df_x_noisy, df_y_noisy, test_size=0.2, random_state=0,shuffle=True)"
   ]
  },
  {
   "cell_type": "code",
   "execution_count": 16,
   "metadata": {},
   "outputs": [
    {
     "data": {
      "text/plain": [
       "array([0, 1])"
      ]
     },
     "execution_count": 16,
     "metadata": {},
     "output_type": "execute_result"
    }
   ],
   "source": [
    "np.unique(y_test)"
   ]
  },
  {
   "cell_type": "code",
   "execution_count": 17,
   "metadata": {},
   "outputs": [
    {
     "data": {
      "text/plain": [
       "((3800, 784), (950, 784))"
      ]
     },
     "execution_count": 17,
     "metadata": {},
     "output_type": "execute_result"
    }
   ],
   "source": [
    "X_train.shape, X_test.shape"
   ]
  },
  {
   "cell_type": "code",
   "execution_count": 18,
   "metadata": {},
   "outputs": [
    {
     "data": {
      "text/plain": [
       "<matplotlib.axes._subplots.AxesSubplot at 0x14f845a50>"
      ]
     },
     "execution_count": 18,
     "metadata": {},
     "output_type": "execute_result"
    },
    {
     "data": {
      "image/png": "[encoded data removed]",
      "text/plain": [
       "<Figure size 432x288 with 1 Axes>"
      ]
     },
     "metadata": {
      "needs_background": "light"
     },
     "output_type": "display_data"
    }
   ],
   "source": [
    "sns.countplot(train_all2['label'],label=\"Count\")"
   ]
  },
  {
   "cell_type": "code",
   "execution_count": 19,
   "metadata": {},
   "outputs": [],
   "source": [
    "X_train=X_train.to_numpy()\n",
    "X_test=X_test.to_numpy()\n",
    "X_train = X_train.reshape((X_train.shape[0], 28 * 28 * 1))\n",
    "X_test = X_test.reshape((X_test.shape[0], 28 * 28 * 1))\n",
    "X_train = X_train.astype(\"float32\") / 255.0\n",
    "X_test = X_test.astype(\"float32\") / 255.0"
   ]
  },
  {
   "cell_type": "code",
   "execution_count": 20,
   "metadata": {},
   "outputs": [
    {
     "data": {
      "text/plain": [
       "(3800, 784)"
      ]
     },
     "execution_count": 20,
     "metadata": {},
     "output_type": "execute_result"
    }
   ],
   "source": [
    "X_train.shape"
   ]
  },
  {
   "cell_type": "code",
   "execution_count": 21,
   "metadata": {},
   "outputs": [],
   "source": [
    "from tensorflow.keras.models import Sequential\n",
    "from tensorflow.keras.layers import Dense, Conv2D, MaxPool2D, Flatten\n",
    "model = Sequential()\n",
    "model.add(Dense(X_train.shape[0] ,input_shape=(784,), activation='relu'))\n",
    "model.add(Dropout(0.2))\n",
    "#model.add(Dense(X_train.shape[0] ,input_shape=(784,), activation='relu'))\n",
    "#model.add(Dropout(0.3))\n",
    "#model.add(Dense(128, activation=\"relu\"))\n",
    "model.add(Dense(1, activation=\"sigmoid\"))"
   ]
  },
  {
   "cell_type": "code",
   "execution_count": 22,
   "metadata": {},
   "outputs": [],
   "source": [
    "from sklearn.preprocessing import LabelEncoder\n",
    "label_encoder = LabelEncoder().fit(y_train)\n",
    "classes = label_encoder.classes_"
   ]
  },
  {
   "cell_type": "code",
   "execution_count": 23,
   "metadata": {},
   "outputs": [],
   "source": [
    "from sklearn.utils import compute_class_weight\n",
    "classWeight = compute_class_weight('balanced',classes,y_train) \n",
    "classWeight = dict(enumerate(classWeight))\n",
    "#model.fit(X_train, y_train, batch_size = batch_size, nb_epoch = nb_epochs, show_accuracy = True, verbose = 2, validation_data = (X_test, y_test), class_weight=classWeight)"
   ]
  },
  {
   "cell_type": "code",
   "execution_count": 24,
   "metadata": {},
   "outputs": [
    {
     "name": "stdout",
     "output_type": "stream",
     "text": [
      "[INFO] training network...\n"
     ]
    }
   ],
   "source": [
    "print(\"[INFO] training network...\")\n",
    "sgd = SGD(0.000001,decay=1e-6, momentum=0.9, nesterov=True)\n",
    "#sgd = optimizers.SGD(lr=0.0001, decay=1e-6, momentum=0.9, nesterov=True)\n",
    "model.compile(loss=\"binary_crossentropy\", optimizer='adam',\n",
    "metrics=[\"accuracy\"])"
   ]
  },
  {
   "cell_type": "code",
   "execution_count": 25,
   "metadata": {},
   "outputs": [
    {
     "data": {
      "text/plain": [
       "((3800, 784), (3800,), (950, 784), (950,))"
      ]
     },
     "execution_count": 25,
     "metadata": {},
     "output_type": "execute_result"
    }
   ],
   "source": [
    "X_train.shape,y_train.shape,X_test.shape, y_test.shape"
   ]
  },
  {
   "cell_type": "code",
   "execution_count": 26,
   "metadata": {},
   "outputs": [
    {
     "name": "stdout",
     "output_type": "stream",
     "text": [
      "Epoch 1/16\n",
      "119/119 [==============================] - 5s 34ms/step - loss: 0.6170 - accuracy: 0.7282 - val_loss: 0.5607 - val_accuracy: 0.6789\n",
      "Epoch 2/16\n",
      "119/119 [==============================] - 4s 32ms/step - loss: 0.5009 - accuracy: 0.7684 - val_loss: 0.4906 - val_accuracy: 0.7642\n",
      "Epoch 3/16\n",
      "119/119 [==============================] - 4s 32ms/step - loss: 0.4857 - accuracy: 0.7534 - val_loss: 0.5044 - val_accuracy: 0.7474\n",
      "Epoch 4/16\n",
      "119/119 [==============================] - 4s 33ms/step - loss: 0.4505 - accuracy: 0.7876 - val_loss: 0.4963 - val_accuracy: 0.7579\n",
      "Epoch 5/16\n",
      "119/119 [==============================] - 4s 30ms/step - loss: 0.4222 - accuracy: 0.8018 - val_loss: 0.5837 - val_accuracy: 0.6589\n",
      "Epoch 6/16\n",
      "119/119 [==============================] - 3s 29ms/step - loss: 0.3931 - accuracy: 0.8203 - val_loss: 0.5211 - val_accuracy: 0.7179\n",
      "Epoch 7/16\n",
      "119/119 [==============================] - 3s 28ms/step - loss: 0.3594 - accuracy: 0.8389 - val_loss: 0.5165 - val_accuracy: 0.7684\n",
      "Epoch 8/16\n",
      "119/119 [==============================] - 3s 27ms/step - loss: 0.3217 - accuracy: 0.8608 - val_loss: 0.5523 - val_accuracy: 0.7326\n",
      "Epoch 9/16\n",
      "119/119 [==============================] - 4s 31ms/step - loss: 0.2908 - accuracy: 0.8774 - val_loss: 0.5547 - val_accuracy: 0.7211\n",
      "Epoch 10/16\n",
      "119/119 [==============================] - 4s 35ms/step - loss: 0.2731 - accuracy: 0.8853 - val_loss: 0.5588 - val_accuracy: 0.7474\n",
      "Epoch 11/16\n",
      "119/119 [==============================] - 7s 61ms/step - loss: 0.2370 - accuracy: 0.9047 - val_loss: 0.6157 - val_accuracy: 0.7432\n",
      "Epoch 12/16\n",
      "119/119 [==============================] - 5s 45ms/step - loss: 0.2125 - accuracy: 0.9161 - val_loss: 0.6304 - val_accuracy: 0.7442\n",
      "Epoch 13/16\n",
      "119/119 [==============================] - 5s 40ms/step - loss: 0.1970 - accuracy: 0.9168 - val_loss: 0.6611 - val_accuracy: 0.7495\n",
      "Epoch 14/16\n",
      "119/119 [==============================] - 5s 38ms/step - loss: 0.1779 - accuracy: 0.9305 - val_loss: 0.6585 - val_accuracy: 0.7211\n",
      "Epoch 15/16\n",
      "119/119 [==============================] - 4s 35ms/step - loss: 0.1604 - accuracy: 0.9405 - val_loss: 0.7347 - val_accuracy: 0.7358\n",
      "Epoch 16/16\n",
      "119/119 [==============================] - 3s 28ms/step - loss: 0.1393 - accuracy: 0.9505 - val_loss: 0.7571 - val_accuracy: 0.7358\n"
     ]
    },
    {
     "data": {
      "text/plain": [
       "<keras.callbacks.History at 0x115440290>"
      ]
     },
     "execution_count": 26,
     "metadata": {},
     "output_type": "execute_result"
    }
   ],
   "source": [
    "model.fit(X_train, y_train, validation_data=(X_test, y_test),epochs=16, class_weight=classWeight)"
   ]
  },
  {
   "cell_type": "code",
   "execution_count": 27,
   "metadata": {},
   "outputs": [
    {
     "name": "stdout",
     "output_type": "stream",
     "text": [
      "Test loss: 0.7571373581886292\n",
      "Test accuracy: 0.7357894778251648\n"
     ]
    }
   ],
   "source": [
    "score = model.evaluate(X_test, y_test, verbose=0)\n",
    "print('Test loss:', score[0])\n",
    "print('Test accuracy:', score[1])"
   ]
  },
  {
   "cell_type": "markdown",
   "metadata": {},
   "source": [
    "## Predictions"
   ]
  },
  {
   "cell_type": "code",
   "execution_count": 28,
   "metadata": {},
   "outputs": [
    {
     "name": "stdout",
     "output_type": "stream",
     "text": [
      "[INFO] evaluating network...\n",
      "30/30 [==============================] - 1s 7ms/step\n"
     ]
    }
   ],
   "source": [
    "from sklearn.metrics import classification_report\n",
    "from sklearn.preprocessing import LabelBinarizer\n",
    "lb = LabelBinarizer()\n",
    "print(\"[INFO] evaluating network...\")\n",
    "y_pred = model.predict(X_test)\n",
    "\n",
    "#print(classification_report(y_test.argmax(axis=1)))"
   ]
  },
  {
   "cell_type": "code",
   "execution_count": 614,
   "metadata": {},
   "outputs": [
    {
     "name": "stderr",
     "output_type": "stream",
     "text": [
      "No handles with labels found to put in legend.\n"
     ]
    },
    {
     "data": {
      "text/plain": [
       "<function matplotlib.pyplot.show(*args, **kw)>"
      ]
     },
     "execution_count": 614,
     "metadata": {},
     "output_type": "execute_result"
    },
    {
     "data": {
      "image/png": "[encoded data removed]",
      "text/plain": [
       "<Figure size 648x648 with 1 Axes>"
      ]
     },
     "metadata": {
      "needs_background": "light"
     },
     "output_type": "display_data"
    }
   ],
   "source": [
    "plt.figure(figsize=(9, 9))\n",
    "plt.plot(y_pred,'.',color='red')\n",
    "plt.axhline(y=0.46, color='b', linestyle='dashed')\n",
    "plt.legend()\n",
    "plt.show"
   ]
  },
  {
   "cell_type": "code",
   "execution_count": 29,
   "metadata": {},
   "outputs": [],
   "source": [
    "y_pred=np.rint(y_pred)"
   ]
  },
  {
   "cell_type": "code",
   "execution_count": 30,
   "metadata": {},
   "outputs": [
    {
     "name": "stdout",
     "output_type": "stream",
     "text": [
      "30/30 [==============================] - 0s 9ms/step - loss: 0.7571 - accuracy: 0.7358\n"
     ]
    }
   ],
   "source": [
    "results = model.evaluate(X_test, y_test)"
   ]
  },
  {
   "cell_type": "code",
   "execution_count": 31,
   "metadata": {},
   "outputs": [
    {
     "name": "stdout",
     "output_type": "stream",
     "text": [
      "Test loss, Test acc: [0.7571373581886292, 0.7357894778251648]\n"
     ]
    }
   ],
   "source": [
    "print(\"Test loss, Test acc:\", results)"
   ]
  },
  {
   "cell_type": "code",
   "execution_count": 32,
   "metadata": {},
   "outputs": [
    {
     "name": "stdout",
     "output_type": "stream",
     "text": [
      "[0 1]\n",
      "[0. 1.]\n"
     ]
    }
   ],
   "source": [
    "print(np.unique(y_test))\n",
    "print(np.unique(y_pred))"
   ]
  },
  {
   "cell_type": "code",
   "execution_count": 55,
   "metadata": {},
   "outputs": [
    {
     "data": {
      "image/png": "[encoded data removed]",
      "text/plain": [
       "<Figure size 432x288 with 2 Axes>"
      ]
     },
     "metadata": {
      "needs_background": "light"
     },
     "output_type": "display_data"
    }
   ],
   "source": [
    "from sklearn.metrics import confusion_matrix\n",
    "labels = ['True Neg','False Pos','False Neg','True Pos']\n",
    "\n",
    "labels = np.asarray(labels).reshape(2,2)\n",
    "\n",
    "ax = sns.heatmap(cf_matrix, annot=labels, fmt='', cmap='Blues')\n",
    "\n",
    "ax.set_title('Seaborn Confusion Matrix with labels\\n\\n');\n",
    "ax.set_xlabel('\\nPredicted Values')\n",
    "ax.set_ylabel('Actual Values ');\n",
    "\n",
    "## Ticket labels - List must be in alphabetical order\n",
    "ax.xaxis.set_ticklabels(['False','True'])\n",
    "ax.yaxis.set_ticklabels(['False','True'])\n",
    "\n",
    "## Display the visualization of the Confusion Matrix.\n",
    "plt.show()"
   ]
  },
  {
   "cell_type": "code",
   "execution_count": 56,
   "metadata": {},
   "outputs": [
    {
     "name": "stdout",
     "output_type": "stream",
     "text": [
      "[[482 121]\n",
      " [130 217]]\n"
     ]
    }
   ],
   "source": [
    "from sklearn.metrics import confusion_matrix\n",
    "#Generate the confusion matrix\n",
    "cf_matrix = confusion_matrix(y_test, y_pred)\n",
    "print(cf_matrix)"
   ]
  },
  {
   "cell_type": "markdown",
   "metadata": {},
   "source": [
    "####### The model captured 217 out of 347 anomalies (63%, TP/TP+FN, true positive rate, sensitivity. )"
   ]
  },
  {
   "cell_type": "code",
   "execution_count": 74,
   "metadata": {},
   "outputs": [],
   "source": [
    "#predictions_good"
   ]
  },
  {
   "cell_type": "code",
   "execution_count": 92,
   "metadata": {},
   "outputs": [
    {
     "ename": "KeyError",
     "evalue": "\"['label'] not found in axis\"",
     "output_type": "error",
     "traceback": [
      "\u001b[0;31m---------------------------------------------------------------------------\u001b[0m",
      "\u001b[0;31mKeyError\u001b[0m                                  Traceback (most recent call last)",
      "\u001b[0;32m<ipython-input-92-c8b467b68633>\u001b[0m in \u001b[0;36m<module>\u001b[0;34m\u001b[0m\n\u001b[1;32m      1\u001b[0m \u001b[0;31m#label=predictions_good['label']\u001b[0m\u001b[0;34m\u001b[0m\u001b[0;34m\u001b[0m\u001b[0;34m\u001b[0m\u001b[0m\n\u001b[0;32m----> 2\u001b[0;31m \u001b[0mpredictions_good\u001b[0m\u001b[0;34m=\u001b[0m\u001b[0mpredictions_good\u001b[0m\u001b[0;34m.\u001b[0m\u001b[0mdrop\u001b[0m\u001b[0;34m(\u001b[0m\u001b[0mcolumns\u001b[0m\u001b[0;34m=\u001b[0m\u001b[0;34m'label'\u001b[0m\u001b[0;34m)\u001b[0m\u001b[0;34m\u001b[0m\u001b[0;34m\u001b[0m\u001b[0m\n\u001b[0m",
      "\u001b[0;32m/opt/anaconda3/lib/python3.7/site-packages/pandas/core/frame.py\u001b[0m in \u001b[0;36mdrop\u001b[0;34m(self, labels, axis, index, columns, level, inplace, errors)\u001b[0m\n\u001b[1;32m   4100\u001b[0m             \u001b[0mlevel\u001b[0m\u001b[0;34m=\u001b[0m\u001b[0mlevel\u001b[0m\u001b[0;34m,\u001b[0m\u001b[0;34m\u001b[0m\u001b[0;34m\u001b[0m\u001b[0m\n\u001b[1;32m   4101\u001b[0m             \u001b[0minplace\u001b[0m\u001b[0;34m=\u001b[0m\u001b[0minplace\u001b[0m\u001b[0;34m,\u001b[0m\u001b[0;34m\u001b[0m\u001b[0;34m\u001b[0m\u001b[0m\n\u001b[0;32m-> 4102\u001b[0;31m             \u001b[0merrors\u001b[0m\u001b[0;34m=\u001b[0m\u001b[0merrors\u001b[0m\u001b[0;34m,\u001b[0m\u001b[0;34m\u001b[0m\u001b[0;34m\u001b[0m\u001b[0m\n\u001b[0m\u001b[1;32m   4103\u001b[0m         )\n\u001b[1;32m   4104\u001b[0m \u001b[0;34m\u001b[0m\u001b[0m\n",
      "\u001b[0;32m/opt/anaconda3/lib/python3.7/site-packages/pandas/core/generic.py\u001b[0m in \u001b[0;36mdrop\u001b[0;34m(self, labels, axis, index, columns, level, inplace, errors)\u001b[0m\n\u001b[1;32m   3912\u001b[0m         \u001b[0;32mfor\u001b[0m \u001b[0maxis\u001b[0m\u001b[0;34m,\u001b[0m \u001b[0mlabels\u001b[0m \u001b[0;32min\u001b[0m \u001b[0maxes\u001b[0m\u001b[0;34m.\u001b[0m\u001b[0mitems\u001b[0m\u001b[0;34m(\u001b[0m\u001b[0;34m)\u001b[0m\u001b[0;34m:\u001b[0m\u001b[0;34m\u001b[0m\u001b[0;34m\u001b[0m\u001b[0m\n\u001b[1;32m   3913\u001b[0m             \u001b[0;32mif\u001b[0m \u001b[0mlabels\u001b[0m \u001b[0;32mis\u001b[0m \u001b[0;32mnot\u001b[0m \u001b[0;32mNone\u001b[0m\u001b[0;34m:\u001b[0m\u001b[0;34m\u001b[0m\u001b[0;34m\u001b[0m\u001b[0m\n\u001b[0;32m-> 3914\u001b[0;31m                 \u001b[0mobj\u001b[0m \u001b[0;34m=\u001b[0m \u001b[0mobj\u001b[0m\u001b[0;34m.\u001b[0m\u001b[0m_drop_axis\u001b[0m\u001b[0;34m(\u001b[0m\u001b[0mlabels\u001b[0m\u001b[0;34m,\u001b[0m \u001b[0maxis\u001b[0m\u001b[0;34m,\u001b[0m \u001b[0mlevel\u001b[0m\u001b[0;34m=\u001b[0m\u001b[0mlevel\u001b[0m\u001b[0;34m,\u001b[0m \u001b[0merrors\u001b[0m\u001b[0;34m=\u001b[0m\u001b[0merrors\u001b[0m\u001b[0;34m)\u001b[0m\u001b[0;34m\u001b[0m\u001b[0;34m\u001b[0m\u001b[0m\n\u001b[0m\u001b[1;32m   3915\u001b[0m \u001b[0;34m\u001b[0m\u001b[0m\n\u001b[1;32m   3916\u001b[0m         \u001b[0;32mif\u001b[0m \u001b[0minplace\u001b[0m\u001b[0;34m:\u001b[0m\u001b[0;34m\u001b[0m\u001b[0;34m\u001b[0m\u001b[0m\n",
      "\u001b[0;32m/opt/anaconda3/lib/python3.7/site-packages/pandas/core/generic.py\u001b[0m in \u001b[0;36m_drop_axis\u001b[0;34m(self, labels, axis, level, errors)\u001b[0m\n\u001b[1;32m   3944\u001b[0m                 \u001b[0mnew_axis\u001b[0m \u001b[0;34m=\u001b[0m \u001b[0maxis\u001b[0m\u001b[0;34m.\u001b[0m\u001b[0mdrop\u001b[0m\u001b[0;34m(\u001b[0m\u001b[0mlabels\u001b[0m\u001b[0;34m,\u001b[0m \u001b[0mlevel\u001b[0m\u001b[0;34m=\u001b[0m\u001b[0mlevel\u001b[0m\u001b[0;34m,\u001b[0m \u001b[0merrors\u001b[0m\u001b[0;34m=\u001b[0m\u001b[0merrors\u001b[0m\u001b[0;34m)\u001b[0m\u001b[0;34m\u001b[0m\u001b[0;34m\u001b[0m\u001b[0m\n\u001b[1;32m   3945\u001b[0m             \u001b[0;32melse\u001b[0m\u001b[0;34m:\u001b[0m\u001b[0;34m\u001b[0m\u001b[0;34m\u001b[0m\u001b[0m\n\u001b[0;32m-> 3946\u001b[0;31m                 \u001b[0mnew_axis\u001b[0m \u001b[0;34m=\u001b[0m \u001b[0maxis\u001b[0m\u001b[0;34m.\u001b[0m\u001b[0mdrop\u001b[0m\u001b[0;34m(\u001b[0m\u001b[0mlabels\u001b[0m\u001b[0;34m,\u001b[0m \u001b[0merrors\u001b[0m\u001b[0;34m=\u001b[0m\u001b[0merrors\u001b[0m\u001b[0;34m)\u001b[0m\u001b[0;34m\u001b[0m\u001b[0;34m\u001b[0m\u001b[0m\n\u001b[0m\u001b[1;32m   3947\u001b[0m             \u001b[0mresult\u001b[0m \u001b[0;34m=\u001b[0m \u001b[0mself\u001b[0m\u001b[0;34m.\u001b[0m\u001b[0mreindex\u001b[0m\u001b[0;34m(\u001b[0m\u001b[0;34m**\u001b[0m\u001b[0;34m{\u001b[0m\u001b[0maxis_name\u001b[0m\u001b[0;34m:\u001b[0m \u001b[0mnew_axis\u001b[0m\u001b[0;34m}\u001b[0m\u001b[0;34m)\u001b[0m\u001b[0;34m\u001b[0m\u001b[0;34m\u001b[0m\u001b[0m\n\u001b[1;32m   3948\u001b[0m \u001b[0;34m\u001b[0m\u001b[0m\n",
      "\u001b[0;32m/opt/anaconda3/lib/python3.7/site-packages/pandas/core/indexes/base.py\u001b[0m in \u001b[0;36mdrop\u001b[0;34m(self, labels, errors)\u001b[0m\n\u001b[1;32m   5338\u001b[0m         \u001b[0;32mif\u001b[0m \u001b[0mmask\u001b[0m\u001b[0;34m.\u001b[0m\u001b[0many\u001b[0m\u001b[0;34m(\u001b[0m\u001b[0;34m)\u001b[0m\u001b[0;34m:\u001b[0m\u001b[0;34m\u001b[0m\u001b[0;34m\u001b[0m\u001b[0m\n\u001b[1;32m   5339\u001b[0m             \u001b[0;32mif\u001b[0m \u001b[0merrors\u001b[0m \u001b[0;34m!=\u001b[0m \u001b[0;34m\"ignore\"\u001b[0m\u001b[0;34m:\u001b[0m\u001b[0;34m\u001b[0m\u001b[0;34m\u001b[0m\u001b[0m\n\u001b[0;32m-> 5340\u001b[0;31m                 \u001b[0;32mraise\u001b[0m \u001b[0mKeyError\u001b[0m\u001b[0;34m(\u001b[0m\u001b[0;34m\"{} not found in axis\"\u001b[0m\u001b[0;34m.\u001b[0m\u001b[0mformat\u001b[0m\u001b[0;34m(\u001b[0m\u001b[0mlabels\u001b[0m\u001b[0;34m[\u001b[0m\u001b[0mmask\u001b[0m\u001b[0;34m]\u001b[0m\u001b[0;34m)\u001b[0m\u001b[0;34m)\u001b[0m\u001b[0;34m\u001b[0m\u001b[0;34m\u001b[0m\u001b[0m\n\u001b[0m\u001b[1;32m   5341\u001b[0m             \u001b[0mindexer\u001b[0m \u001b[0;34m=\u001b[0m \u001b[0mindexer\u001b[0m\u001b[0;34m[\u001b[0m\u001b[0;34m~\u001b[0m\u001b[0mmask\u001b[0m\u001b[0;34m]\u001b[0m\u001b[0;34m\u001b[0m\u001b[0;34m\u001b[0m\u001b[0m\n\u001b[1;32m   5342\u001b[0m         \u001b[0;32mreturn\u001b[0m \u001b[0mself\u001b[0m\u001b[0;34m.\u001b[0m\u001b[0mdelete\u001b[0m\u001b[0;34m(\u001b[0m\u001b[0mindexer\u001b[0m\u001b[0;34m)\u001b[0m\u001b[0;34m\u001b[0m\u001b[0;34m\u001b[0m\u001b[0m\n",
      "\u001b[0;31mKeyError\u001b[0m: \"['label'] not found in axis\""
     ]
    }
   ],
   "source": [
    "#label=predictions_good['label']\n",
    "predictions_good=predictions_good.drop(columns='label')"
   ]
  },
  {
   "cell_type": "code",
   "execution_count": 93,
   "metadata": {},
   "outputs": [
    {
     "name": "stdout",
     "output_type": "stream",
     "text": [
      "50/50 [==============================] - 0s 8ms/step\n"
     ]
    },
    {
     "data": {
      "text/plain": [
       "(1600, 1)"
      ]
     },
     "execution_count": 93,
     "metadata": {},
     "output_type": "execute_result"
    }
   ],
   "source": [
    "predictions_good_= model.predict(predictions_good)\n",
    "predictions_good_.shape"
   ]
  },
  {
   "cell_type": "code",
   "execution_count": 94,
   "metadata": {},
   "outputs": [
    {
     "name": "stderr",
     "output_type": "stream",
     "text": [
      "No handles with labels found to put in legend.\n"
     ]
    },
    {
     "data": {
      "text/plain": [
       "<function matplotlib.pyplot.show(*args, **kw)>"
      ]
     },
     "execution_count": 94,
     "metadata": {},
     "output_type": "execute_result"
    },
    {
     "data": {
      "image/png": "[encoded data removed]",
      "text/plain": [
       "<Figure size 432x288 with 1 Axes>"
      ]
     },
     "metadata": {
      "needs_background": "light"
     },
     "output_type": "display_data"
    }
   ],
   "source": [
    "#plt.figure(figsize=(9, 9))\n",
    "plt.plot(predictions_good_,'.')\n",
    "plt.axhline(y=0.46, color='b', linestyle='dashed')\n",
    "plt.legend()\n",
    "plt.show"
   ]
  },
  {
   "cell_type": "code",
   "execution_count": 95,
   "metadata": {},
   "outputs": [
    {
     "name": "stdout",
     "output_type": "stream",
     "text": [
      "[[1272  328]\n",
      " [   0    0]]\n"
     ]
    }
   ],
   "source": [
    "from sklearn.metrics import confusion_matrix\n",
    "#Generate the confusion matrix\n",
    "y_test_good=np.repeat(0,1600)\n",
    "predictions_good_=np.rint(predictions_good_)\n",
    "cf_matrix = confusion_matrix(y_test_good, predictions_good_)\n",
    "print(cf_matrix)"
   ]
  },
  {
   "cell_type": "markdown",
   "metadata": {},
   "source": [
    "#### Predicting unseen noisy samples"
   ]
  },
  {
   "cell_type": "code",
   "execution_count": 57,
   "metadata": {
    "scrolled": true
   },
   "outputs": [
    {
     "name": "stdout",
     "output_type": "stream",
     "text": [
      "4/4 [==============================] - 1s 18ms/step\n",
      "4/4 [==============================] - 0s 13ms/step\n",
      "4/4 [==============================] - 0s 12ms/step\n",
      "4/4 [==============================] - 0s 9ms/step\n"
     ]
    }
   ],
   "source": [
    "#noisy_data_predictions1 = prediction_noisy1.astype(\"float32\") / 255.0\n",
    "#prediction_noisy2 = prediction_noisy2.astype(\"float32\") / 255.0\n",
    "#prediction_noisy3 = prediction_noisy3.astype(\"float32\") / 255.0\n",
    "#prediction_noisy4 = prediction_noisy4.astype(\"float32\") / 255.0\n",
    "prediction_noisy1 = model.predict(noisy_data_predictions1)\n",
    "prediction_noisy2 = model.predict(noisy_data_predictions2)\n",
    "prediction_noisy3 = model.predict(noisy_data_predictions3)\n",
    "prediction_noisy4 = model.predict(noisy_data_predictions4)"
   ]
  },
  {
   "cell_type": "code",
   "execution_count": 58,
   "metadata": {},
   "outputs": [],
   "source": [
    "#prediction_noisy4 =prediction_noisy4.to_numpy()\n",
    "#prediction_noisy4 = prediction_noisy4.reshape((prediction_noisy4.shape[0], 28 * 28 * 1))\n"
   ]
  },
  {
   "cell_type": "code",
   "execution_count": 59,
   "metadata": {},
   "outputs": [],
   "source": [
    "#prediction_noisy = model.predict(noisy_predictions)\n",
    "#prediction_noisy=np.rint(prediction_noisy)"
   ]
  },
  {
   "cell_type": "code",
   "execution_count": 60,
   "metadata": {},
   "outputs": [
    {
     "data": {
      "image/png": "[encoded data removed]",
      "text/plain": [
       "<Figure size 648x648 with 1 Axes>"
      ]
     },
     "metadata": {
      "needs_background": "light"
     },
     "output_type": "display_data"
    }
   ],
   "source": [
    "plt.figure(figsize=(9, 9))\n",
    "plt.plot(prediction_noisy1,'.', color='red', label='Type 1')\n",
    "plt.plot(prediction_noisy2,'.', color='blue', label='Type 2')\n",
    "plt.plot(prediction_noisy3,'.',  color='green',label='Type 3')\n",
    "plt.plot(prediction_noisy4,'.', color='yellow',label='Type 4')\n",
    "plt.axhline(y=0.46, color='b', linestyle='dashed')\n",
    "plt.legend()\n",
    "plt.show()"
   ]
  },
  {
   "cell_type": "code",
   "execution_count": 61,
   "metadata": {},
   "outputs": [],
   "source": [
    "prediction_noisy1=np.rint(prediction_noisy1)\n",
    "prediction_noisy2=np.rint(prediction_noisy2)\n",
    "prediction_noisy3=np.rint(prediction_noisy3)\n",
    "prediction_noisy4=np.rint(prediction_noisy4)\n",
    "y_test_noisy=np.repeat(1,100)"
   ]
  },
  {
   "cell_type": "code",
   "execution_count": 62,
   "metadata": {},
   "outputs": [],
   "source": [
    "cf_matrix1 = confusion_matrix(y_test_noisy, prediction_noisy1)\n",
    "cf_matrix2 = confusion_matrix(y_test_noisy, prediction_noisy2)\n",
    "cf_matrix3 = confusion_matrix(y_test_noisy, prediction_noisy3)\n",
    "cf_matrix4 = confusion_matrix(y_test_noisy, prediction_noisy4)\n"
   ]
  },
  {
   "cell_type": "code",
   "execution_count": 63,
   "metadata": {},
   "outputs": [
    {
     "data": {
      "text/plain": [
       "array([[ 0,  0],\n",
       "       [85, 15]])"
      ]
     },
     "execution_count": 63,
     "metadata": {},
     "output_type": "execute_result"
    }
   ],
   "source": [
    "#First Type\n",
    "cf_matrix1 "
   ]
  },
  {
   "cell_type": "markdown",
   "metadata": {},
   "source": [
    "####### The model captured 15 out of 100 anomalies (15%, TP/TP+FN,true positive rate, sensitivity. )"
   ]
  },
  {
   "cell_type": "code",
   "execution_count": 53,
   "metadata": {},
   "outputs": [
    {
     "data": {
      "text/plain": [
       "array([[ 0,  0],\n",
       "       [87, 13]])"
      ]
     },
     "execution_count": 53,
     "metadata": {},
     "output_type": "execute_result"
    }
   ],
   "source": [
    "#Second Type\n",
    "cf_matrix2 "
   ]
  },
  {
   "cell_type": "markdown",
   "metadata": {},
   "source": [
    "####### The model captured 13 out of 100 anomalies (13%, TP/TP+FN,true positive rate, sensitivity. )"
   ]
  },
  {
   "cell_type": "code",
   "execution_count": 54,
   "metadata": {},
   "outputs": [
    {
     "data": {
      "text/plain": [
       "array([[ 0,  0],\n",
       "       [74, 26]])"
      ]
     },
     "execution_count": 54,
     "metadata": {},
     "output_type": "execute_result"
    }
   ],
   "source": [
    "#Third Type\n",
    "cf_matrix3 "
   ]
  },
  {
   "cell_type": "markdown",
   "metadata": {},
   "source": [
    "####### The model captured 26 out of 100 anomalies (26%, TP/TP+FN,true positive rate, sensitivity. )"
   ]
  },
  {
   "cell_type": "code",
   "execution_count": 52,
   "metadata": {},
   "outputs": [
    {
     "data": {
      "text/plain": [
       "array([[ 0,  0],\n",
       "       [75, 25]])"
      ]
     },
     "execution_count": 52,
     "metadata": {},
     "output_type": "execute_result"
    }
   ],
   "source": [
    "#Fourth Type\n",
    "cf_matrix4 "
   ]
  },
  {
   "cell_type": "markdown",
   "metadata": {},
   "source": [
    "####### The model captured 25 out of 100 anomalies (25%, TP/TP+FN,true positive rate, sensitivity. )"
   ]
  },
  {
   "cell_type": "code",
   "execution_count": 45,
   "metadata": {},
   "outputs": [
    {
     "data": {
      "image/png": "[encoded data removed]",
      "text/plain": [
       "<Figure size 432x288 with 2 Axes>"
      ]
     },
     "metadata": {
      "needs_background": "light"
     },
     "output_type": "display_data"
    }
   ],
   "source": [
    "labels = ['True Neg','False Pos','False Neg','True Pos']\n",
    "\n",
    "labels = np.asarray(labels).reshape(2,2)\n",
    "\n",
    "ax = sns.heatmap(cf_matrix, annot=labels, fmt='', cmap='Blues')\n",
    "\n",
    "ax.set_title('Seaborn Confusion Matrix with labels\\n\\n');\n",
    "ax.set_xlabel('\\nPredicted Values')\n",
    "ax.set_ylabel('Actual Values ');\n",
    "\n",
    "## Ticket labels - List must be in alphabetical order\n",
    "ax.xaxis.set_ticklabels(['False','True'])\n",
    "ax.yaxis.set_ticklabels(['False','True'])\n",
    "\n",
    "## Display the visualization of the Confusion Matrix.\n",
    "plt.show()"
   ]
  },
  {
   "cell_type": "markdown",
   "metadata": {},
   "source": [
    "#### Predicting other types of noisy samples"
   ]
  },
  {
   "cell_type": "code",
   "execution_count": 46,
   "metadata": {},
   "outputs": [],
   "source": [
    "from random import random\n",
    "from random import gauss\n",
    "def makeRandomSample(dimensions, minValue=0, maxValue=1.0, pValue=0.5, distribution='uniform', pTable=None):\n",
    "    theSample = []\n",
    "    \n",
    "    for i in range(0, dimensions):\n",
    "        if distribution == 'uniform':\n",
    "            v = 0\n",
    "            if random() < pValue:\n",
    "                v = random()\n",
    "                if pTable != None:\n",
    "                    v = v * (pTable[i] + 0.01)\n",
    "                else:\n",
    "                    v = minValue + (v * (maxValue - minValue))\n",
    "        elif distribution == 'gaussian':\n",
    "            if pTable != None:\n",
    "                v = gauss(pTable[i], 0.33)\n",
    "            else:\n",
    "                v = gauss((maxValue - minValue) / 2, 0.13)\n",
    "            \n",
    "        elif distribution == 'binary':\n",
    "            v = random()\n",
    "            if pTable != None:\n",
    "                if v < pTable[i]:\n",
    "                    v = 0.9\n",
    "                else:\n",
    "                    v = 0.1\n",
    "            else:\n",
    "                if v < pValue:\n",
    "                    v = 0.9\n",
    "                else:\n",
    "                    v = 0.1\n",
    "                    \n",
    "        if v > maxValue:\n",
    "            v = maxValue\n",
    "        if v < minValue:\n",
    "            v = minValue\n",
    "        \n",
    "        theSample.append(v)\n",
    "        \n",
    "    return theSample"
   ]
  },
  {
   "cell_type": "code",
   "execution_count": 47,
   "metadata": {},
   "outputs": [
    {
     "data": {
      "text/plain": [
       "<matplotlib.image.AxesImage at 0x16439aed0>"
      ]
     },
     "execution_count": 47,
     "metadata": {},
     "output_type": "execute_result"
    },
    {
     "data": {
      "image/png": "[encoded data removed]",
      "text/plain": [
       "<Figure size 288x288 with 1 Axes>"
      ]
     },
     "metadata": {
      "needs_background": "light"
     },
     "output_type": "display_data"
    },
    {
     "data": {
      "image/png": "[encoded data removed]",
      "text/plain": [
       "<Figure size 288x288 with 1 Axes>"
      ]
     },
     "metadata": {
      "needs_background": "light"
     },
     "output_type": "display_data"
    },
    {
     "data": {
      "image/png": "[encoded data removed]",
      "text/plain": [
       "<Figure size 288x288 with 1 Axes>"
      ]
     },
     "metadata": {
      "needs_background": "light"
     },
     "output_type": "display_data"
    },
    {
     "data": {
      "image/png": "[encoded data removed]",
      "text/plain": [
       "<Figure size 288x288 with 1 Axes>"
      ]
     },
     "metadata": {
      "needs_background": "light"
     },
     "output_type": "display_data"
    },
    {
     "data": {
      "image/png": "[encoded data removed]",
      "text/plain": [
       "<Figure size 288x288 with 1 Axes>"
      ]
     },
     "metadata": {
      "needs_background": "light"
     },
     "output_type": "display_data"
    }
   ],
   "source": [
    "import numpy as np\n",
    "noisy1=makeRandomSample(28*28, 0, 0.8, 0.9, 'binary', None)\n",
    "noisy2=makeRandomSample(28*28, 0, 0.8, 0.7, 'gaussian', None)\n",
    "noisy3=makeRandomSample(28*28, 0, 0.8, 0.7, 'uniform', None)\n",
    "noisy4=makeRandomSample(28*28, 1, 0.8, 0.7, 'binary', None)\n",
    "noisy5=makeRandomSample(28*28, 0.3, 0.6, 0.9, 'gaussian', None)\n",
    "image1=np.array(noisy1).reshape(28,28)\n",
    "image2=np.array(noisy2).reshape(28,28)\n",
    "image3=np.array(noisy3).reshape(28,28)\n",
    "image4=np.array(noisy4).reshape(28,28)\n",
    "image5=np.array(noisy5).reshape(28,28)\n",
    "plt.matshow(image1, cmap=plt.cm.gray)\n",
    "plt.matshow(image2, cmap=plt.cm.gray)\n",
    "plt.matshow(image3, cmap=plt.cm.gray)\n",
    "plt.matshow(image4, cmap=plt.cm.gray)\n",
    "plt.matshow(image5, cmap=plt.cm.gray)"
   ]
  },
  {
   "cell_type": "code",
   "execution_count": 65,
   "metadata": {},
   "outputs": [],
   "source": [
    "image1=np.array(noisy1)\n",
    "image1=image1.reshape(1,784)\n",
    "image1=pd.DataFrame(image1)\n",
    "image2=np.array(noisy2)\n",
    "image2=image2.reshape(1,784)\n",
    "image2=pd.DataFrame(image2)\n",
    "image3=np.array(noisy3)\n",
    "image3=image3.reshape(1,784)\n",
    "image3=pd.DataFrame(image3)\n",
    "image4=np.array(noisy4)\n",
    "image4=image4.reshape(1,784)\n",
    "image4=pd.DataFrame(image4)\n",
    "\n",
    "image5=np.array(noisy5)\n",
    "image5=image5.reshape(1,784)\n",
    "image5=pd.DataFrame(image5)\n",
    "\n",
    "\n",
    "image1 = image1.astype(\"float32\") / 255.0\n",
    "image2 = image2.astype(\"float32\") / 255.0\n",
    "image3 = image3.astype(\"float32\") / 255.0\n",
    "image4 = image4.astype(\"float32\") / 255.0\n",
    "image5 = image5.astype(\"float32\") / 255.0"
   ]
  },
  {
   "cell_type": "code",
   "execution_count": 66,
   "metadata": {},
   "outputs": [
    {
     "name": "stdout",
     "output_type": "stream",
     "text": [
      "1/1 [==============================] - 0s 31ms/step\n",
      "1/1 [==============================] - 0s 34ms/step\n",
      "1/1 [==============================] - 0s 33ms/step\n",
      "1/1 [==============================] - 0s 27ms/step\n",
      "1/1 [==============================] - 0s 22ms/step\n"
     ]
    }
   ],
   "source": [
    "prediction_noisy1 = model.predict(image1)\n",
    "prediction_noisy2 = model.predict(image2)\n",
    "prediction_noisy3 = model.predict(image3)\n",
    "prediction_noisy4 = model.predict(image4)\n",
    "prediction_noisy5 = model.predict(image5)"
   ]
  },
  {
   "cell_type": "code",
   "execution_count": 67,
   "metadata": {},
   "outputs": [
    {
     "data": {
      "text/plain": [
       "(array([[0.9999816]], dtype=float32),\n",
       " array([[0.9999774]], dtype=float32),\n",
       " array([[0.99997747]], dtype=float32),\n",
       " array([[0.99998295]], dtype=float32),\n",
       " array([[0.9999765]], dtype=float32))"
      ]
     },
     "execution_count": 67,
     "metadata": {},
     "output_type": "execute_result"
    }
   ],
   "source": [
    "prediction_noisy1,prediction_noisy2,prediction_noisy3,prediction_noisy4,prediction_noisy5"
   ]
  },
  {
   "cell_type": "code",
   "execution_count": 68,
   "metadata": {},
   "outputs": [
    {
     "data": {
      "image/png": "[encoded data removed]",
      "text/plain": [
       "<Figure size 432x288 with 1 Axes>"
      ]
     },
     "metadata": {
      "needs_background": "light"
     },
     "output_type": "display_data"
    }
   ],
   "source": [
    "plt.plot(prediction_noisy1,'.',color='yellow',label='image 1')\n",
    "plt.plot(prediction_noisy2,'.',color='green',label='image 2')\n",
    "plt.plot(prediction_noisy3,'.',color='blue',label='image 3')\n",
    "plt.plot(prediction_noisy4,'.', color='red',label='image 4')\n",
    "plt.plot(prediction_noisy5,'.', color='orange',label='image 5')\n",
    "plt.legend()\n",
    "plt.show()\n",
    "#plt.ylim(0.98,1) "
   ]
  },
  {
   "cell_type": "code",
   "execution_count": null,
   "metadata": {},
   "outputs": [],
   "source": []
  },
  {
   "cell_type": "code",
   "execution_count": null,
   "metadata": {},
   "outputs": [],
   "source": []
  },
  {
   "cell_type": "code",
   "execution_count": null,
   "metadata": {},
   "outputs": [],
   "source": []
  },
  {
   "cell_type": "code",
   "execution_count": null,
   "metadata": {},
   "outputs": [],
   "source": []
  }
 ],
 "metadata": {
  "kernelspec": {
   "display_name": "Python 3 (ipykernel)",
   "language": "python",
   "name": "python3"
  },
  "language_info": {
   "codemirror_mode": {
    "name": "ipython",
    "version": 3
   },
   "file_extension": ".py",
   "mimetype": "text/x-python",
   "name": "python",
   "nbconvert_exporter": "python",
   "pygments_lexer": "ipython3",
   "version": "3.10.8"
  }
 },
 "nbformat": 4,
 "nbformat_minor": 2
}
