{
 "cells": [
  {
   "cell_type": "markdown",
   "metadata": {},
   "source": [
    "## In this notebook: ANN classifer model using both good and nosy model-state data.\n"
   ]
  },
  {
   "cell_type": "markdown",
   "metadata": {},
   "source": [
    "Potential Issues:\n",
    "    \n",
    "For the first layer, the model has an accuracy of 1. But then when presented with different kinds of noisy samples, it predicts really bad. This model was trained with model-state data where these different kinds of noise are present, so it should predict them well. "
   ]
  },
  {
   "cell_type": "code",
   "execution_count": 1,
   "metadata": {},
   "outputs": [
    {
     "name": "stderr",
     "output_type": "stream",
     "text": [
      "/opt/anaconda3/lib/python3.7/site-packages/sklearn/linear_model/least_angle.py:30: DeprecationWarning: `np.float` is a deprecated alias for the builtin `float`. To silence this warning, use `float` by itself. Doing this will not modify any behavior and is safe. If you specifically wanted the numpy scalar type, use `np.float64` here.\n",
      "Deprecated in NumPy 1.20; for more details and guidance: https://numpy.org/devdocs/release/1.20.0-notes.html#deprecations\n",
      "  method='lar', copy_X=True, eps=np.finfo(np.float).eps,\n",
      "/opt/anaconda3/lib/python3.7/site-packages/sklearn/linear_model/least_angle.py:167: DeprecationWarning: `np.float` is a deprecated alias for the builtin `float`. To silence this warning, use `float` by itself. Doing this will not modify any behavior and is safe. If you specifically wanted the numpy scalar type, use `np.float64` here.\n",
      "Deprecated in NumPy 1.20; for more details and guidance: https://numpy.org/devdocs/release/1.20.0-notes.html#deprecations\n",
      "  method='lar', copy_X=True, eps=np.finfo(np.float).eps,\n",
      "/opt/anaconda3/lib/python3.7/site-packages/sklearn/linear_model/least_angle.py:284: DeprecationWarning: `np.float` is a deprecated alias for the builtin `float`. To silence this warning, use `float` by itself. Doing this will not modify any behavior and is safe. If you specifically wanted the numpy scalar type, use `np.float64` here.\n",
      "Deprecated in NumPy 1.20; for more details and guidance: https://numpy.org/devdocs/release/1.20.0-notes.html#deprecations\n",
      "  eps=np.finfo(np.float).eps, copy_Gram=True, verbose=0,\n",
      "/opt/anaconda3/lib/python3.7/site-packages/sklearn/linear_model/least_angle.py:862: DeprecationWarning: `np.float` is a deprecated alias for the builtin `float`. To silence this warning, use `float` by itself. Doing this will not modify any behavior and is safe. If you specifically wanted the numpy scalar type, use `np.float64` here.\n",
      "Deprecated in NumPy 1.20; for more details and guidance: https://numpy.org/devdocs/release/1.20.0-notes.html#deprecations\n",
      "  eps=np.finfo(np.float).eps, copy_X=True, fit_path=True,\n",
      "/opt/anaconda3/lib/python3.7/site-packages/sklearn/linear_model/least_angle.py:1101: DeprecationWarning: `np.float` is a deprecated alias for the builtin `float`. To silence this warning, use `float` by itself. Doing this will not modify any behavior and is safe. If you specifically wanted the numpy scalar type, use `np.float64` here.\n",
      "Deprecated in NumPy 1.20; for more details and guidance: https://numpy.org/devdocs/release/1.20.0-notes.html#deprecations\n",
      "  eps=np.finfo(np.float).eps, copy_X=True, fit_path=True,\n",
      "/opt/anaconda3/lib/python3.7/site-packages/sklearn/linear_model/least_angle.py:1127: DeprecationWarning: `np.float` is a deprecated alias for the builtin `float`. To silence this warning, use `float` by itself. Doing this will not modify any behavior and is safe. If you specifically wanted the numpy scalar type, use `np.float64` here.\n",
      "Deprecated in NumPy 1.20; for more details and guidance: https://numpy.org/devdocs/release/1.20.0-notes.html#deprecations\n",
      "  eps=np.finfo(np.float).eps, positive=False):\n",
      "/opt/anaconda3/lib/python3.7/site-packages/sklearn/linear_model/least_angle.py:1362: DeprecationWarning: `np.float` is a deprecated alias for the builtin `float`. To silence this warning, use `float` by itself. Doing this will not modify any behavior and is safe. If you specifically wanted the numpy scalar type, use `np.float64` here.\n",
      "Deprecated in NumPy 1.20; for more details and guidance: https://numpy.org/devdocs/release/1.20.0-notes.html#deprecations\n",
      "  max_n_alphas=1000, n_jobs=None, eps=np.finfo(np.float).eps,\n",
      "/opt/anaconda3/lib/python3.7/site-packages/sklearn/linear_model/least_angle.py:1602: DeprecationWarning: `np.float` is a deprecated alias for the builtin `float`. To silence this warning, use `float` by itself. Doing this will not modify any behavior and is safe. If you specifically wanted the numpy scalar type, use `np.float64` here.\n",
      "Deprecated in NumPy 1.20; for more details and guidance: https://numpy.org/devdocs/release/1.20.0-notes.html#deprecations\n",
      "  max_n_alphas=1000, n_jobs=None, eps=np.finfo(np.float).eps,\n",
      "/opt/anaconda3/lib/python3.7/site-packages/sklearn/linear_model/least_angle.py:1738: DeprecationWarning: `np.float` is a deprecated alias for the builtin `float`. To silence this warning, use `float` by itself. Doing this will not modify any behavior and is safe. If you specifically wanted the numpy scalar type, use `np.float64` here.\n",
      "Deprecated in NumPy 1.20; for more details and guidance: https://numpy.org/devdocs/release/1.20.0-notes.html#deprecations\n",
      "  eps=np.finfo(np.float).eps, copy_X=True, positive=False):\n",
      "/opt/anaconda3/lib/python3.7/site-packages/sklearn/decomposition/online_lda.py:29: DeprecationWarning: `np.float` is a deprecated alias for the builtin `float`. To silence this warning, use `float` by itself. Doing this will not modify any behavior and is safe. If you specifically wanted the numpy scalar type, use `np.float64` here.\n",
      "Deprecated in NumPy 1.20; for more details and guidance: https://numpy.org/devdocs/release/1.20.0-notes.html#deprecations\n",
      "  EPS = np.finfo(np.float).eps\n",
      "/opt/anaconda3/lib/python3.7/site-packages/sklearn/ensemble/gradient_boosting.py:32: DeprecationWarning: `np.bool` is a deprecated alias for the builtin `bool`. To silence this warning, use `bool` by itself. Doing this will not modify any behavior and is safe. If you specifically wanted the numpy scalar type, use `np.bool_` here.\n",
      "Deprecated in NumPy 1.20; for more details and guidance: https://numpy.org/devdocs/release/1.20.0-notes.html#deprecations\n",
      "  from ._gradient_boosting import predict_stages\n",
      "/opt/anaconda3/lib/python3.7/site-packages/sklearn/ensemble/gradient_boosting.py:32: DeprecationWarning: `np.bool` is a deprecated alias for the builtin `bool`. To silence this warning, use `bool` by itself. Doing this will not modify any behavior and is safe. If you specifically wanted the numpy scalar type, use `np.bool_` here.\n",
      "Deprecated in NumPy 1.20; for more details and guidance: https://numpy.org/devdocs/release/1.20.0-notes.html#deprecations\n",
      "  from ._gradient_boosting import predict_stages\n"
     ]
    }
   ],
   "source": [
    "import warnings\n",
    "warnings.filterwarnings('ignore')\n",
    "import pandas as pd\n",
    "import numpy as np\n",
    "import tensorflow as tf\n",
    "from tensorflow.keras.datasets import mnist\n",
    "from tensorflow.keras.models import load_model\n",
    "from tensorflow import keras\n",
    "from tensorflow.keras import datasets\n",
    "import tensorflow\n",
    "from tensorflow.keras import datasets\n",
    "from tensorflow.keras.optimizers import SGD\n",
    "from tensorflow.keras.models import Sequential\n",
    "from tensorflow.keras.layers import Conv2D, Dropout, GlobalAveragePooling2D, Softmax\n",
    "import matplotlib.pyplot as plt\n",
    "from sklearn.ensemble import IsolationForest\n",
    "import matplotlib.pyplot as plt \n",
    "import seaborn as sns\n",
    "from sklearn.model_selection import train_test_split\n",
    "import pandas as pd\n",
    "import warnings\n",
    "warnings.filterwarnings('ignore')"
   ]
  },
  {
   "cell_type": "code",
   "execution_count": 2,
   "metadata": {},
   "outputs": [],
   "source": [
    "good_data=pd.read_csv(\"first_layer_dense.csv\", header=None)\n",
    "good_data2=pd.read_csv(\"second_layer_dense.csv\", header=None)\n",
    "# 4 different kinds of noise.\n",
    "noisy=pd.read_csv(\"noisy_samples_first_layer_32_new.csv\", header=None)\n",
    "noisy2=pd.read_csv(\"noisy_samples_second_layer_10_new.csv\", header=None)"
   ]
  },
  {
   "cell_type": "code",
   "execution_count": 3,
   "metadata": {},
   "outputs": [
    {
     "data": {
      "text/plain": [
       "((2400, 33), (1400, 33))"
      ]
     },
     "execution_count": 3,
     "metadata": {},
     "output_type": "execute_result"
    }
   ],
   "source": [
    "good_data.shape,noisy.shape"
   ]
  },
  {
   "cell_type": "code",
   "execution_count": 4,
   "metadata": {
    "scrolled": true
   },
   "outputs": [
    {
     "data": {
      "text/plain": [
       "((2400, 11), (1400, 11))"
      ]
     },
     "execution_count": 4,
     "metadata": {},
     "output_type": "execute_result"
    }
   ],
   "source": [
    "good_data2.shape,noisy2.shape"
   ]
  },
  {
   "cell_type": "code",
   "execution_count": 5,
   "metadata": {},
   "outputs": [],
   "source": [
    "good_data = good_data.drop(columns=32)\n",
    "good_data2 = good_data2.drop(columns=10)\n",
    "noisy = noisy.drop(columns=32)\n",
    "noisy2 = noisy2.drop(columns=10)"
   ]
  },
  {
   "cell_type": "markdown",
   "metadata": {},
   "source": [
    "#### Adding label "
   ]
  },
  {
   "cell_type": "code",
   "execution_count": 6,
   "metadata": {},
   "outputs": [],
   "source": [
    "label_0=np.repeat(0, good_data.shape[0])\n",
    "label_1=np.repeat(1, noisy.shape[0])\n",
    "label_0_second_layer=np.repeat(0, good_data2.shape[0])\n",
    "label_1_second_layer=np.repeat(1, noisy2.shape[0])"
   ]
  },
  {
   "cell_type": "code",
   "execution_count": 7,
   "metadata": {},
   "outputs": [],
   "source": [
    "good_data.insert(loc=0, column='label', value=label_0)\n",
    "noisy.insert(loc=0, column='label', value=label_1)"
   ]
  },
  {
   "cell_type": "code",
   "execution_count": 8,
   "metadata": {},
   "outputs": [],
   "source": [
    "noisy2.insert(loc=0, column='label', value=label_1_second_layer)\n",
    "good_data2.insert(loc=0, column='label', value=label_0_second_layer)"
   ]
  },
  {
   "cell_type": "code",
   "execution_count": 9,
   "metadata": {},
   "outputs": [
    {
     "data": {
      "text/html": [
       "<div>\n",
       "<style scoped>\n",
       "    .dataframe tbody tr th:only-of-type {\n",
       "        vertical-align: middle;\n",
       "    }\n",
       "\n",
       "    .dataframe tbody tr th {\n",
       "        vertical-align: top;\n",
       "    }\n",
       "\n",
       "    .dataframe thead th {\n",
       "        text-align: right;\n",
       "    }\n",
       "</style>\n",
       "<table border=\"1\" class=\"dataframe\">\n",
       "  <thead>\n",
       "    <tr style=\"text-align: right;\">\n",
       "      <th></th>\n",
       "      <th>label</th>\n",
       "      <th>0</th>\n",
       "      <th>1</th>\n",
       "      <th>2</th>\n",
       "      <th>3</th>\n",
       "      <th>4</th>\n",
       "      <th>5</th>\n",
       "      <th>6</th>\n",
       "      <th>7</th>\n",
       "      <th>8</th>\n",
       "      <th>...</th>\n",
       "      <th>22</th>\n",
       "      <th>23</th>\n",
       "      <th>24</th>\n",
       "      <th>25</th>\n",
       "      <th>26</th>\n",
       "      <th>27</th>\n",
       "      <th>28</th>\n",
       "      <th>29</th>\n",
       "      <th>30</th>\n",
       "      <th>31</th>\n",
       "    </tr>\n",
       "  </thead>\n",
       "  <tbody>\n",
       "    <tr>\n",
       "      <td>0</td>\n",
       "      <td>0</td>\n",
       "      <td>-0.0</td>\n",
       "      <td>-0.0</td>\n",
       "      <td>-0.0</td>\n",
       "      <td>-0.0</td>\n",
       "      <td>-0.0</td>\n",
       "      <td>-0.0</td>\n",
       "      <td>-0.000000</td>\n",
       "      <td>4.43591</td>\n",
       "      <td>9.417781</td>\n",
       "      <td>...</td>\n",
       "      <td>-0.0</td>\n",
       "      <td>-0.000000</td>\n",
       "      <td>0.371734</td>\n",
       "      <td>-0.0</td>\n",
       "      <td>2.186035</td>\n",
       "      <td>2.058924</td>\n",
       "      <td>-0.0</td>\n",
       "      <td>-0.0</td>\n",
       "      <td>2.713118</td>\n",
       "      <td>6.667173</td>\n",
       "    </tr>\n",
       "    <tr>\n",
       "      <td>1</td>\n",
       "      <td>0</td>\n",
       "      <td>-0.0</td>\n",
       "      <td>-0.0</td>\n",
       "      <td>-0.0</td>\n",
       "      <td>-0.0</td>\n",
       "      <td>-0.0</td>\n",
       "      <td>-0.0</td>\n",
       "      <td>5.014995</td>\n",
       "      <td>-0.00000</td>\n",
       "      <td>3.974792</td>\n",
       "      <td>...</td>\n",
       "      <td>-0.0</td>\n",
       "      <td>12.779865</td>\n",
       "      <td>-0.000000</td>\n",
       "      <td>-0.0</td>\n",
       "      <td>9.415463</td>\n",
       "      <td>0.058519</td>\n",
       "      <td>-0.0</td>\n",
       "      <td>-0.0</td>\n",
       "      <td>3.334485</td>\n",
       "      <td>4.764035</td>\n",
       "    </tr>\n",
       "  </tbody>\n",
       "</table>\n",
       "<p>2 rows × 33 columns</p>\n",
       "</div>"
      ],
      "text/plain": [
       "   label    0    1    2    3    4    5         6        7         8  ...   22  \\\n",
       "0      0 -0.0 -0.0 -0.0 -0.0 -0.0 -0.0 -0.000000  4.43591  9.417781  ... -0.0   \n",
       "1      0 -0.0 -0.0 -0.0 -0.0 -0.0 -0.0  5.014995 -0.00000  3.974792  ... -0.0   \n",
       "\n",
       "          23        24   25        26        27   28   29        30        31  \n",
       "0  -0.000000  0.371734 -0.0  2.186035  2.058924 -0.0 -0.0  2.713118  6.667173  \n",
       "1  12.779865 -0.000000 -0.0  9.415463  0.058519 -0.0 -0.0  3.334485  4.764035  \n",
       "\n",
       "[2 rows x 33 columns]"
      ]
     },
     "execution_count": 9,
     "metadata": {},
     "output_type": "execute_result"
    }
   ],
   "source": [
    "good_data.head(2)"
   ]
  },
  {
   "cell_type": "code",
   "execution_count": 10,
   "metadata": {},
   "outputs": [
    {
     "data": {
      "text/html": [
       "<div>\n",
       "<style scoped>\n",
       "    .dataframe tbody tr th:only-of-type {\n",
       "        vertical-align: middle;\n",
       "    }\n",
       "\n",
       "    .dataframe tbody tr th {\n",
       "        vertical-align: top;\n",
       "    }\n",
       "\n",
       "    .dataframe thead th {\n",
       "        text-align: right;\n",
       "    }\n",
       "</style>\n",
       "<table border=\"1\" class=\"dataframe\">\n",
       "  <thead>\n",
       "    <tr style=\"text-align: right;\">\n",
       "      <th></th>\n",
       "      <th>label</th>\n",
       "      <th>0</th>\n",
       "      <th>1</th>\n",
       "      <th>2</th>\n",
       "      <th>3</th>\n",
       "      <th>4</th>\n",
       "      <th>5</th>\n",
       "      <th>6</th>\n",
       "      <th>7</th>\n",
       "      <th>8</th>\n",
       "      <th>...</th>\n",
       "      <th>22</th>\n",
       "      <th>23</th>\n",
       "      <th>24</th>\n",
       "      <th>25</th>\n",
       "      <th>26</th>\n",
       "      <th>27</th>\n",
       "      <th>28</th>\n",
       "      <th>29</th>\n",
       "      <th>30</th>\n",
       "      <th>31</th>\n",
       "    </tr>\n",
       "  </thead>\n",
       "  <tbody>\n",
       "    <tr>\n",
       "      <td>0</td>\n",
       "      <td>1</td>\n",
       "      <td>0.0</td>\n",
       "      <td>21.454794</td>\n",
       "      <td>0.0</td>\n",
       "      <td>21.780441</td>\n",
       "      <td>22.364273</td>\n",
       "      <td>21.798470</td>\n",
       "      <td>22.979643</td>\n",
       "      <td>17.767950</td>\n",
       "      <td>20.662392</td>\n",
       "      <td>...</td>\n",
       "      <td>0.0</td>\n",
       "      <td>22.422182</td>\n",
       "      <td>0.0</td>\n",
       "      <td>0.0</td>\n",
       "      <td>0.0</td>\n",
       "      <td>18.037153</td>\n",
       "      <td>18.577494</td>\n",
       "      <td>0.0</td>\n",
       "      <td>22.586908</td>\n",
       "      <td>0.0</td>\n",
       "    </tr>\n",
       "    <tr>\n",
       "      <td>1</td>\n",
       "      <td>1</td>\n",
       "      <td>0.0</td>\n",
       "      <td>21.240885</td>\n",
       "      <td>0.0</td>\n",
       "      <td>21.112010</td>\n",
       "      <td>21.556204</td>\n",
       "      <td>20.823935</td>\n",
       "      <td>22.079000</td>\n",
       "      <td>16.665604</td>\n",
       "      <td>19.847033</td>\n",
       "      <td>...</td>\n",
       "      <td>0.0</td>\n",
       "      <td>21.727512</td>\n",
       "      <td>0.0</td>\n",
       "      <td>0.0</td>\n",
       "      <td>0.0</td>\n",
       "      <td>17.247578</td>\n",
       "      <td>17.685488</td>\n",
       "      <td>0.0</td>\n",
       "      <td>22.209415</td>\n",
       "      <td>0.0</td>\n",
       "    </tr>\n",
       "  </tbody>\n",
       "</table>\n",
       "<p>2 rows × 33 columns</p>\n",
       "</div>"
      ],
      "text/plain": [
       "   label    0          1    2          3          4          5          6  \\\n",
       "0      1  0.0  21.454794  0.0  21.780441  22.364273  21.798470  22.979643   \n",
       "1      1  0.0  21.240885  0.0  21.112010  21.556204  20.823935  22.079000   \n",
       "\n",
       "           7          8  ...   22         23   24   25   26         27  \\\n",
       "0  17.767950  20.662392  ...  0.0  22.422182  0.0  0.0  0.0  18.037153   \n",
       "1  16.665604  19.847033  ...  0.0  21.727512  0.0  0.0  0.0  17.247578   \n",
       "\n",
       "          28   29         30   31  \n",
       "0  18.577494  0.0  22.586908  0.0  \n",
       "1  17.685488  0.0  22.209415  0.0  \n",
       "\n",
       "[2 rows x 33 columns]"
      ]
     },
     "execution_count": 10,
     "metadata": {},
     "output_type": "execute_result"
    }
   ],
   "source": [
    "noisy.head(2)"
   ]
  },
  {
   "cell_type": "code",
   "execution_count": 11,
   "metadata": {},
   "outputs": [],
   "source": [
    "#joining good and noisy data\n",
    "data_first_layer=pd.concat([good_data,noisy])\n",
    "data_second_layer=pd.concat([good_data2,noisy2])"
   ]
  },
  {
   "cell_type": "code",
   "execution_count": 12,
   "metadata": {},
   "outputs": [
    {
     "data": {
      "text/plain": [
       "<matplotlib.axes._subplots.AxesSubplot at 0x149426d50>"
      ]
     },
     "execution_count": 12,
     "metadata": {},
     "output_type": "execute_result"
    },
    {
     "data": {
      "image/png": "[encoded data removed]",
      "text/plain": [
       "<Figure size 432x288 with 1 Axes>"
      ]
     },
     "metadata": {
      "needs_background": "light"
     },
     "output_type": "display_data"
    }
   ],
   "source": [
    "sns.countplot(data_first_layer['label'],label=\"Count\")"
   ]
  },
  {
   "cell_type": "code",
   "execution_count": 13,
   "metadata": {},
   "outputs": [
    {
     "data": {
      "text/plain": [
       "<matplotlib.axes._subplots.AxesSubplot at 0x149661610>"
      ]
     },
     "execution_count": 13,
     "metadata": {},
     "output_type": "execute_result"
    },
    {
     "data": {
      "image/png": "[encoded data removed]",
      "text/plain": [
       "<Figure size 432x288 with 1 Axes>"
      ]
     },
     "metadata": {
      "needs_background": "light"
     },
     "output_type": "display_data"
    }
   ],
   "source": [
    "sns.countplot(data_second_layer['label'],label=\"Count\")"
   ]
  },
  {
   "cell_type": "code",
   "execution_count": 14,
   "metadata": {},
   "outputs": [],
   "source": [
    "df_x_first_layer=data_first_layer.iloc[:,1:]\n",
    "df_y_first_layer=data_first_layer.iloc[:,0]\n",
    "df_y_first_layer.value_counts().sort_index()\n",
    "\n",
    "df_x_second_layer=data_second_layer.iloc[:,1:]\n",
    "df_y_second_layer=data_second_layer.iloc[:,0]\n",
    "df_y_second_layer.value_counts().sort_index()\n",
    "\n",
    "#Split the dataset\n",
    "\n",
    "#First layer\n",
    "X_train1, X_test1, y_train1, y_test1 = train_test_split(df_x_first_layer, df_y_first_layer, test_size=0.2, random_state=0,shuffle=True)\n",
    "#Second layer\n",
    "X_train2, X_test2, y_train2, y_test2 = train_test_split(df_x_second_layer, df_y_second_layer, test_size=0.2, random_state=0,shuffle=True)\n"
   ]
  },
  {
   "cell_type": "code",
   "execution_count": 15,
   "metadata": {},
   "outputs": [
    {
     "data": {
      "text/plain": [
       "((3040, 32), (3040, 10))"
      ]
     },
     "execution_count": 15,
     "metadata": {},
     "output_type": "execute_result"
    }
   ],
   "source": [
    "X_train1.shape,X_train2.shape,"
   ]
  },
  {
   "cell_type": "code",
   "execution_count": 16,
   "metadata": {},
   "outputs": [],
   "source": [
    "from tensorflow.keras.models import Sequential\n",
    "from tensorflow.keras.layers import Dense, Conv2D, MaxPool2D, Flatten\n",
    "model = Sequential()\n",
    "model.add(Dense(X_train1.shape[0] ,input_shape=(32,), activation='relu'))\n",
    "model.add(Dropout(0.2))\n",
    "#model.add(Dense(X_train1.shape[0] ,input_shape=(32,), activation='relu'))\n",
    "#model.add(Dropout(0.3))\n",
    "#model.add(Dense(128, activation=\"relu\"))\n",
    "model.add(Dense(1, activation=\"sigmoid\"))"
   ]
  },
  {
   "cell_type": "code",
   "execution_count": 17,
   "metadata": {},
   "outputs": [],
   "source": [
    "from sklearn.preprocessing import LabelEncoder\n",
    "label_encoder = LabelEncoder().fit(y_train1)\n",
    "classes = label_encoder.classes_\n",
    "from sklearn.utils import compute_class_weight\n",
    "classWeight = compute_class_weight('balanced',classes,y_train1) \n",
    "classWeight = dict(enumerate(classWeight))\n",
    "#model.fit(X_train, y_train, batch_size = batch_size, nb_epoch = nb_epochs, show_accuracy = True, verbose = 2, validation_data = (X_test, y_test), class_weight=classWeight)"
   ]
  },
  {
   "cell_type": "code",
   "execution_count": 18,
   "metadata": {},
   "outputs": [
    {
     "name": "stdout",
     "output_type": "stream",
     "text": [
      "[INFO] training network...\n"
     ]
    }
   ],
   "source": [
    "print(\"[INFO] training network...\")\n",
    "sgd = SGD(0.000001,decay=1e-6, momentum=0.9, nesterov=True)\n",
    "#sgd = optimizers.SGD(lr=0.0001, decay=1e-6, momentum=0.9, nesterov=True)\n",
    "model.compile(loss=\"binary_crossentropy\", optimizer='adam',\n",
    "metrics=[\"accuracy\"])"
   ]
  },
  {
   "cell_type": "code",
   "execution_count": 19,
   "metadata": {},
   "outputs": [
    {
     "name": "stdout",
     "output_type": "stream",
     "text": [
      "Model: \"sequential\"\n",
      "_________________________________________________________________\n",
      " Layer (type)                Output Shape              Param #   \n",
      "=================================================================\n",
      " dense (Dense)               (None, 3040)              100320    \n",
      "                                                                 \n",
      " dropout (Dropout)           (None, 3040)              0         \n",
      "                                                                 \n",
      " dense_1 (Dense)             (None, 1)                 3041      \n",
      "                                                                 \n",
      "=================================================================\n",
      "Total params: 103,361\n",
      "Trainable params: 103,361\n",
      "Non-trainable params: 0\n",
      "_________________________________________________________________\n"
     ]
    }
   ],
   "source": [
    "model.summary()"
   ]
  },
  {
   "cell_type": "markdown",
   "metadata": {},
   "source": [
    "### First Layer"
   ]
  },
  {
   "cell_type": "code",
   "execution_count": 114,
   "metadata": {},
   "outputs": [
    {
     "data": {
      "text/plain": [
       "((3040, 32), (3040,), (760, 32), (760,))"
      ]
     },
     "execution_count": 114,
     "metadata": {},
     "output_type": "execute_result"
    }
   ],
   "source": [
    "X_train1.shape,y_train1.shape,X_test1.shape, y_test1.shape"
   ]
  },
  {
   "cell_type": "code",
   "execution_count": 115,
   "metadata": {},
   "outputs": [],
   "source": [
    "model.compile(loss=\"binary_crossentropy\", optimizer='adam',\n",
    "metrics=[\"accuracy\"])"
   ]
  },
  {
   "cell_type": "code",
   "execution_count": 117,
   "metadata": {},
   "outputs": [
    {
     "name": "stdout",
     "output_type": "stream",
     "text": [
      "Epoch 1/16\n",
      "95/95 [==============================] - 1s 9ms/step - loss: 0.0166 - accuracy: 0.9941 - val_loss: 5.7233e-07 - val_accuracy: 1.0000\n",
      "Epoch 2/16\n",
      "95/95 [==============================] - 1s 7ms/step - loss: 1.4370e-06 - accuracy: 1.0000 - val_loss: 2.4979e-07 - val_accuracy: 1.0000\n",
      "Epoch 3/16\n",
      "95/95 [==============================] - 1s 7ms/step - loss: 8.3505e-07 - accuracy: 1.0000 - val_loss: 9.9239e-08 - val_accuracy: 1.0000\n",
      "Epoch 4/16\n",
      "95/95 [==============================] - 1s 8ms/step - loss: 3.2594e-07 - accuracy: 1.0000 - val_loss: 5.7140e-08 - val_accuracy: 1.0000\n",
      "Epoch 5/16\n",
      "95/95 [==============================] - 1s 9ms/step - loss: 1.3288e-07 - accuracy: 1.0000 - val_loss: 4.0199e-08 - val_accuracy: 1.0000\n",
      "Epoch 6/16\n",
      "95/95 [==============================] - 1s 8ms/step - loss: 1.4809e-07 - accuracy: 1.0000 - val_loss: 2.7116e-08 - val_accuracy: 1.0000\n",
      "Epoch 7/16\n",
      "95/95 [==============================] - 1s 8ms/step - loss: 8.9854e-08 - accuracy: 1.0000 - val_loss: 2.1292e-08 - val_accuracy: 1.0000\n",
      "Epoch 8/16\n",
      "95/95 [==============================] - 1s 9ms/step - loss: 7.0158e-08 - accuracy: 1.0000 - val_loss: 1.5540e-08 - val_accuracy: 1.0000\n",
      "Epoch 9/16\n",
      "95/95 [==============================] - 1s 6ms/step - loss: 4.0293e-08 - accuracy: 1.0000 - val_loss: 1.3034e-08 - val_accuracy: 1.0000\n",
      "Epoch 10/16\n",
      "95/95 [==============================] - 1s 10ms/step - loss: 3.7311e-08 - accuracy: 1.0000 - val_loss: 1.0932e-08 - val_accuracy: 1.0000\n",
      "Epoch 11/16\n",
      "95/95 [==============================] - 1s 7ms/step - loss: 2.8940e-08 - accuracy: 1.0000 - val_loss: 9.3471e-09 - val_accuracy: 1.0000\n",
      "Epoch 12/16\n",
      "95/95 [==============================] - 1s 7ms/step - loss: 3.1785e-08 - accuracy: 1.0000 - val_loss: 8.2715e-09 - val_accuracy: 1.0000\n",
      "Epoch 13/16\n",
      "95/95 [==============================] - 1s 7ms/step - loss: 2.3193e-08 - accuracy: 1.0000 - val_loss: 7.3087e-09 - val_accuracy: 1.0000\n",
      "Epoch 14/16\n",
      "95/95 [==============================] - 1s 8ms/step - loss: 1.8694e-08 - accuracy: 1.0000 - val_loss: 6.6229e-09 - val_accuracy: 1.0000\n",
      "Epoch 15/16\n",
      "95/95 [==============================] - 1s 7ms/step - loss: 2.0076e-08 - accuracy: 1.0000 - val_loss: 6.0308e-09 - val_accuracy: 1.0000\n",
      "Epoch 16/16\n",
      "95/95 [==============================] - 1s 10ms/step - loss: 1.7205e-08 - accuracy: 1.0000 - val_loss: 5.5781e-09 - val_accuracy: 1.0000\n"
     ]
    },
    {
     "data": {
      "text/plain": [
       "<keras.callbacks.History at 0x14b241410>"
      ]
     },
     "execution_count": 117,
     "metadata": {},
     "output_type": "execute_result"
    }
   ],
   "source": [
    "model.fit(X_train1, y_train1, validation_data=(X_test1, y_test1),epochs=16,class_weight=classWeight)"
   ]
  },
  {
   "cell_type": "code",
   "execution_count": 118,
   "metadata": {},
   "outputs": [
    {
     "name": "stdout",
     "output_type": "stream",
     "text": [
      "Test loss: 5.578118411619926e-09\n",
      "Test accuracy: 1.0\n"
     ]
    }
   ],
   "source": [
    "score = model.evaluate(X_test1, y_test1, verbose=0)\n",
    "print('Test loss:', score[0])\n",
    "print('Test accuracy:', score[1])"
   ]
  },
  {
   "cell_type": "code",
   "execution_count": 119,
   "metadata": {},
   "outputs": [
    {
     "name": "stdout",
     "output_type": "stream",
     "text": [
      "24/24 [==============================] - 0s 3ms/step\n"
     ]
    }
   ],
   "source": [
    "y_pred1 = model.predict(X_test1)\n",
    "#print(classification_report(y_test.argmax(axis=1)))"
   ]
  },
  {
   "cell_type": "code",
   "execution_count": 150,
   "metadata": {},
   "outputs": [
    {
     "name": "stderr",
     "output_type": "stream",
     "text": [
      "No handles with labels found to put in legend.\n"
     ]
    },
    {
     "data": {
      "text/plain": [
       "<function matplotlib.pyplot.show(*args, **kw)>"
      ]
     },
     "execution_count": 150,
     "metadata": {},
     "output_type": "execute_result"
    },
    {
     "data": {
      "image/png": "[encoded data removed]",
      "text/plain": [
       "<Figure size 432x288 with 1 Axes>"
      ]
     },
     "metadata": {
      "needs_background": "light"
     },
     "output_type": "display_data"
    }
   ],
   "source": [
    "#plt.figure(figsize=(9, 9))\n",
    "plt.plot(y_pred1,'.',color='red')\n",
    "plt.legend()\n",
    "plt.show"
   ]
  },
  {
   "cell_type": "code",
   "execution_count": 121,
   "metadata": {},
   "outputs": [
    {
     "name": "stdout",
     "output_type": "stream",
     "text": [
      "[[473   0]\n",
      " [  0 287]]\n"
     ]
    }
   ],
   "source": [
    "from sklearn.metrics import confusion_matrix\n",
    "#Generate the confusion matrix\n",
    "y_pred1=np.rint(y_pred1)\n",
    "cf_matrix = confusion_matrix(y_test1, y_pred1)\n",
    "print(cf_matrix)"
   ]
  },
  {
   "cell_type": "markdown",
   "metadata": {},
   "source": [
    "### Predicting different Types of Noise - First Layer"
   ]
  },
  {
   "cell_type": "code",
   "execution_count": 122,
   "metadata": {},
   "outputs": [],
   "source": [
    "noisy_data_first_type1=pd.read_csv(\"noisy_samples_first_type_first_layer.csv\", header=None)\n",
    "noisy_data_second_type1=pd.read_csv(\"noisy_samples_second_type_first_layer.csv\", header=None)\n",
    "noisy_data_third_type1=pd.read_csv(\"noisy_samples_third_type_first_layer.csv\", header=None)\n",
    "noisy_data_fourth_type1=pd.read_csv(\"noisy_samples_fourth_type_first_layer.csv\", header=None)\n",
    "noisy_data_first_type1 = noisy_data_first_type1.drop(columns=32)\n",
    "noisy_data_second_type1 = noisy_data_second_type1.drop(columns=32)\n",
    "noisy_data_third_type1 = noisy_data_third_type1.drop(columns=32)\n",
    "noisy_data_fourth_type1 = noisy_data_fourth_type1.drop(columns=32)"
   ]
  },
  {
   "cell_type": "code",
   "execution_count": 151,
   "metadata": {},
   "outputs": [
    {
     "name": "stdout",
     "output_type": "stream",
     "text": [
      "3/3 [==============================] - 0s 8ms/step\n",
      "3/3 [==============================] - 0s 56ms/step\n",
      "3/3 [==============================] - 0s 3ms/step\n",
      "3/3 [==============================] - 0s 4ms/step\n"
     ]
    }
   ],
   "source": [
    "pred_noisy_1 = model.predict(noisy_data_first_type1)\n",
    "pred_noisy_2 = model.predict(noisy_data_second_type1)\n",
    "pred_noisy_3 = model.predict(noisy_data_third_type1)\n",
    "pred_noisy_4 = model.predict(noisy_data_fourth_type1)"
   ]
  },
  {
   "cell_type": "code",
   "execution_count": 154,
   "metadata": {},
   "outputs": [
    {
     "data": {
      "text/plain": [
       "<function matplotlib.pyplot.show(*args, **kw)>"
      ]
     },
     "execution_count": 154,
     "metadata": {},
     "output_type": "execute_result"
    },
    {
     "data": {
      "image/png": "[encoded data removed]",
      "text/plain": [
       "<Figure size 648x648 with 1 Axes>"
      ]
     },
     "metadata": {
      "needs_background": "light"
     },
     "output_type": "display_data"
    }
   ],
   "source": [
    "plt.figure(figsize=(9, 9))\n",
    "plt.plot(pred_noisy_1,'.',color='red',label=\"First type\")\n",
    "plt.plot(pred_noisy_2,'.',color='green',label=\"Second type\")\n",
    "plt.plot(pred_noisy_3,'.',color='blue',label=\"Third type\")\n",
    "plt.plot(pred_noisy_4,'.',color='yellow',label=\"Fourth type\")\n",
    "plt.axhline(y=0.46, color='BLACK', linestyle='dashed')\n",
    "plt.legend()\n",
    "plt.show"
   ]
  },
  {
   "cell_type": "code",
   "execution_count": 155,
   "metadata": {},
   "outputs": [],
   "source": [
    "pred_noisy_3=np.rint(pred_noisy_3)\n",
    "y_test_noisy=np.repeat(1,80)\n",
    "cf_matrix = confusion_matrix(y_test_noisy, pred_noisy_3)"
   ]
  },
  {
   "cell_type": "code",
   "execution_count": 156,
   "metadata": {},
   "outputs": [
    {
     "data": {
      "text/plain": [
       "array([[80]])"
      ]
     },
     "execution_count": 156,
     "metadata": {},
     "output_type": "execute_result"
    }
   ],
   "source": [
    "cf_matrix  #80 True Positives for the Third Type"
   ]
  },
  {
   "cell_type": "markdown",
   "metadata": {},
   "source": [
    "The First Layer is predicting all the noisy data (100% True Positives) for the 2nd and 3rd type of noise and 0% of the anomalies (0% True Positives) for the 1st and 4th type of noise."
   ]
  },
  {
   "cell_type": "markdown",
   "metadata": {},
   "source": [
    "### Second layer"
   ]
  },
  {
   "cell_type": "code",
   "execution_count": 130,
   "metadata": {},
   "outputs": [],
   "source": [
    "from tensorflow.keras.models import Sequential\n",
    "from tensorflow.keras.layers import Dense, Conv2D, MaxPool2D, Flatten\n",
    "model2 = Sequential()\n",
    "model2.add(Dense(X_train2.shape[0] ,input_shape=(10,), activation='relu'))\n",
    "model2.add(Dropout(0.3))\n",
    "#model.add(Dense(X_train1.shape[0] ,input_shape=(32,), activation='relu'))\n",
    "#model.add(Dropout(0.3))\n",
    "#model.add(Dense(128, activation=\"relu\"))\n",
    "model2.add(Dense(1, activation=\"sigmoid\"))\n",
    "model2.compile(loss=\"binary_crossentropy\", optimizer='adam',\n",
    "metrics=[\"accuracy\"])"
   ]
  },
  {
   "cell_type": "code",
   "execution_count": 131,
   "metadata": {},
   "outputs": [],
   "source": [
    "from sklearn.preprocessing import LabelEncoder\n",
    "label_encoder = LabelEncoder().fit(y_train2)\n",
    "classes = label_encoder.classes_\n",
    "from sklearn.utils import compute_class_weight\n",
    "classWeight = compute_class_weight('balanced',classes,y_train2) \n",
    "classWeight = dict(enumerate(classWeight))\n",
    "#model.fit(X_train, y_train, batch_size = batch_size, nb_epoch = nb_epochs, show_accuracy = True, verbose = 2, validation_data = (X_test, y_test), class_weight=classWeight)"
   ]
  },
  {
   "cell_type": "code",
   "execution_count": 132,
   "metadata": {},
   "outputs": [
    {
     "name": "stdout",
     "output_type": "stream",
     "text": [
      "[INFO] training network...\n"
     ]
    }
   ],
   "source": [
    "print(\"[INFO] training network...\")\n",
    "sgd = SGD(0.000001,decay=1e-6, momentum=0.9, nesterov=True)\n",
    "#sgd = optimizers.SGD(lr=0.0001, decay=1e-6, momentum=0.9, nesterov=True)\n",
    "model2.compile(loss=\"binary_crossentropy\", optimizer='adam',\n",
    "metrics=[\"accuracy\"])"
   ]
  },
  {
   "cell_type": "code",
   "execution_count": 133,
   "metadata": {},
   "outputs": [
    {
     "name": "stdout",
     "output_type": "stream",
     "text": [
      "Epoch 1/16\n",
      "95/95 [==============================] - 1s 8ms/step - loss: 0.2714 - accuracy: 0.9263 - val_loss: 0.1864 - val_accuracy: 0.9342\n",
      "Epoch 2/16\n",
      "95/95 [==============================] - 1s 5ms/step - loss: 0.1953 - accuracy: 0.9293 - val_loss: 0.1888 - val_accuracy: 0.9342\n",
      "Epoch 3/16\n",
      "95/95 [==============================] - 1s 5ms/step - loss: 0.1941 - accuracy: 0.9293 - val_loss: 0.1846 - val_accuracy: 0.9342\n",
      "Epoch 4/16\n",
      "95/95 [==============================] - 1s 6ms/step - loss: 0.1937 - accuracy: 0.9293 - val_loss: 0.1845 - val_accuracy: 0.9342\n",
      "Epoch 5/16\n",
      "95/95 [==============================] - 1s 6ms/step - loss: 0.1946 - accuracy: 0.9293 - val_loss: 0.1856 - val_accuracy: 0.9342\n",
      "Epoch 6/16\n",
      "95/95 [==============================] - 0s 5ms/step - loss: 0.1962 - accuracy: 0.9293 - val_loss: 0.1843 - val_accuracy: 0.9342\n",
      "Epoch 7/16\n",
      "95/95 [==============================] - 1s 7ms/step - loss: 0.1941 - accuracy: 0.9293 - val_loss: 0.1839 - val_accuracy: 0.9342\n",
      "Epoch 8/16\n",
      "95/95 [==============================] - 0s 5ms/step - loss: 0.1938 - accuracy: 0.9296 - val_loss: 0.1837 - val_accuracy: 0.9342\n",
      "Epoch 9/16\n",
      "95/95 [==============================] - 1s 9ms/step - loss: 0.1941 - accuracy: 0.9293 - val_loss: 0.1853 - val_accuracy: 0.9342\n",
      "Epoch 10/16\n",
      "95/95 [==============================] - 0s 5ms/step - loss: 0.1956 - accuracy: 0.9293 - val_loss: 0.1851 - val_accuracy: 0.9342\n",
      "Epoch 11/16\n",
      "95/95 [==============================] - 0s 5ms/step - loss: 0.1930 - accuracy: 0.9293 - val_loss: 0.1835 - val_accuracy: 0.9342\n",
      "Epoch 12/16\n",
      "95/95 [==============================] - 1s 5ms/step - loss: 0.1932 - accuracy: 0.9293 - val_loss: 0.1871 - val_accuracy: 0.9342\n",
      "Epoch 13/16\n",
      "95/95 [==============================] - 1s 5ms/step - loss: 0.1927 - accuracy: 0.9296 - val_loss: 0.1828 - val_accuracy: 0.9342\n",
      "Epoch 14/16\n",
      "95/95 [==============================] - 0s 5ms/step - loss: 0.1921 - accuracy: 0.9296 - val_loss: 0.1886 - val_accuracy: 0.9355\n",
      "Epoch 15/16\n",
      "95/95 [==============================] - 1s 7ms/step - loss: 0.1940 - accuracy: 0.9293 - val_loss: 0.1827 - val_accuracy: 0.9342\n",
      "Epoch 16/16\n",
      "95/95 [==============================] - 1s 8ms/step - loss: 0.1921 - accuracy: 0.9296 - val_loss: 0.1835 - val_accuracy: 0.9355\n"
     ]
    },
    {
     "data": {
      "text/plain": [
       "<keras.callbacks.History at 0x14d277f50>"
      ]
     },
     "execution_count": 133,
     "metadata": {},
     "output_type": "execute_result"
    }
   ],
   "source": [
    "model2.fit(X_train2, y_train2, validation_data=(X_test2, y_test2),epochs=16)"
   ]
  },
  {
   "cell_type": "code",
   "execution_count": 134,
   "metadata": {},
   "outputs": [
    {
     "name": "stdout",
     "output_type": "stream",
     "text": [
      "Test loss: 0.18345069885253906\n",
      "Test accuracy: 0.9355263113975525\n"
     ]
    }
   ],
   "source": [
    "score = model2.evaluate(X_test2, y_test2, verbose=0)\n",
    "print('Test loss:', score[0])\n",
    "print('Test accuracy:', score[1])"
   ]
  },
  {
   "cell_type": "code",
   "execution_count": 135,
   "metadata": {},
   "outputs": [
    {
     "name": "stdout",
     "output_type": "stream",
     "text": [
      "24/24 [==============================] - 0s 2ms/step\n"
     ]
    }
   ],
   "source": [
    "y_pred2 = model2.predict(X_test2)\n",
    "#print(classification_report(y_test.argmax(axis=1)))"
   ]
  },
  {
   "cell_type": "code",
   "execution_count": 153,
   "metadata": {},
   "outputs": [
    {
     "name": "stderr",
     "output_type": "stream",
     "text": [
      "No handles with labels found to put in legend.\n"
     ]
    },
    {
     "data": {
      "text/plain": [
       "<function matplotlib.pyplot.show(*args, **kw)>"
      ]
     },
     "execution_count": 153,
     "metadata": {},
     "output_type": "execute_result"
    },
    {
     "data": {
      "image/png": "[encoded data removed]",
      "text/plain": [
       "<Figure size 432x288 with 1 Axes>"
      ]
     },
     "metadata": {
      "needs_background": "light"
     },
     "output_type": "display_data"
    }
   ],
   "source": [
    "#plt.figure(figsize=(9, 9))\n",
    "plt.plot(y_pred2,'.',color='red')\n",
    "plt.legend()\n",
    "plt.show"
   ]
  },
  {
   "cell_type": "code",
   "execution_count": 137,
   "metadata": {},
   "outputs": [
    {
     "name": "stdout",
     "output_type": "stream",
     "text": [
      "[[424  49]\n",
      " [  0 287]]\n"
     ]
    }
   ],
   "source": [
    "from sklearn.metrics import confusion_matrix\n",
    "#Generate the confusion matrix\n",
    "y_pred2=np.rint(y_pred2)\n",
    "cf_matrix = confusion_matrix(y_test2, y_pred2)\n",
    "print(cf_matrix) "
   ]
  },
  {
   "cell_type": "code",
   "execution_count": 80,
   "metadata": {},
   "outputs": [
    {
     "data": {
      "image/png": "[encoded data removed]",
      "text/plain": [
       "<Figure size 432x288 with 2 Axes>"
      ]
     },
     "metadata": {
      "needs_background": "light"
     },
     "output_type": "display_data"
    }
   ],
   "source": [
    "labels = ['True Neg','False Pos','False Neg','True Pos']\n",
    "\n",
    "labels = np.asarray(labels).reshape(2,2)\n",
    "\n",
    "ax = sns.heatmap(cf_matrix, annot=labels, fmt='', cmap='Blues')\n",
    "\n",
    "ax.set_title('Seaborn Confusion Matrix with labels\\n\\n');\n",
    "ax.set_xlabel('\\nPredicted Values')\n",
    "ax.set_ylabel('Actual Values ');\n",
    "\n",
    "## Ticket labels - List must be in alphabetical order\n",
    "ax.xaxis.set_ticklabels(['False','True'])\n",
    "ax.yaxis.set_ticklabels(['False','True'])\n",
    "\n",
    "## Display the visualization of the Confusion Matrix.\n",
    "plt.show()"
   ]
  },
  {
   "cell_type": "markdown",
   "metadata": {},
   "source": [
    "### Using good  unseen data - Second Layer "
   ]
  },
  {
   "cell_type": "code",
   "execution_count": 138,
   "metadata": {},
   "outputs": [],
   "source": [
    "good_data_unseen=pd.read_csv(\"good_data_second_layer_10.csv\", header=None)\n",
    "good_data_unseen = good_data_unseen.drop(columns=10)"
   ]
  },
  {
   "cell_type": "code",
   "execution_count": 139,
   "metadata": {},
   "outputs": [],
   "source": [
    "y_test_good=np.repeat(0,1600)"
   ]
  },
  {
   "cell_type": "code",
   "execution_count": 157,
   "metadata": {},
   "outputs": [
    {
     "name": "stdout",
     "output_type": "stream",
     "text": [
      "50/50 [==============================] - 1s 4ms/step\n"
     ]
    }
   ],
   "source": [
    "y_pred3 = model2.predict(good_data_unseen)"
   ]
  },
  {
   "cell_type": "code",
   "execution_count": 141,
   "metadata": {},
   "outputs": [
    {
     "data": {
      "text/plain": [
       "[<matplotlib.lines.Line2D at 0x14c3bd0d0>]"
      ]
     },
     "execution_count": 141,
     "metadata": {},
     "output_type": "execute_result"
    },
    {
     "data": {
      "image/png": "[encoded data removed]",
      "text/plain": [
       "<Figure size 432x288 with 1 Axes>"
      ]
     },
     "metadata": {
      "needs_background": "light"
     },
     "output_type": "display_data"
    }
   ],
   "source": [
    "#plt.figure(figsize=(9, 9))\n",
    "plt.plot(y_pred3,'.')"
   ]
  },
  {
   "cell_type": "code",
   "execution_count": 142,
   "metadata": {},
   "outputs": [],
   "source": [
    "y_pred3=np.rint(y_pred3)"
   ]
  },
  {
   "cell_type": "code",
   "execution_count": 143,
   "metadata": {},
   "outputs": [
    {
     "data": {
      "text/plain": [
       "array([[1403,  197],\n",
       "       [   0,    0]])"
      ]
     },
     "execution_count": 143,
     "metadata": {},
     "output_type": "execute_result"
    }
   ],
   "source": [
    "cf_matrix = confusion_matrix(y_test_good, y_pred3)\n",
    "cf_matrix\n",
    "#197 false positives."
   ]
  },
  {
   "cell_type": "markdown",
   "metadata": {},
   "source": [
    "The second layer, regarding good data, the model is predicting 88% of True Negatives and 12% False Positives."
   ]
  },
  {
   "cell_type": "code",
   "execution_count": 172,
   "metadata": {},
   "outputs": [],
   "source": [
    "## good data first layer\n",
    "good_data_unseen1=pd.read_csv(\"good_data_first_layer_32.csv\", header=None)\n",
    "good_data_unseen1 = good_data_unseen1.drop(columns=32)"
   ]
  },
  {
   "cell_type": "code",
   "execution_count": 182,
   "metadata": {},
   "outputs": [
    {
     "data": {
      "text/html": [
       "<div>\n",
       "<style scoped>\n",
       "    .dataframe tbody tr th:only-of-type {\n",
       "        vertical-align: middle;\n",
       "    }\n",
       "\n",
       "    .dataframe tbody tr th {\n",
       "        vertical-align: top;\n",
       "    }\n",
       "\n",
       "    .dataframe thead th {\n",
       "        text-align: right;\n",
       "    }\n",
       "</style>\n",
       "<table border=\"1\" class=\"dataframe\">\n",
       "  <thead>\n",
       "    <tr style=\"text-align: right;\">\n",
       "      <th></th>\n",
       "      <th>0</th>\n",
       "      <th>1</th>\n",
       "      <th>2</th>\n",
       "      <th>3</th>\n",
       "      <th>4</th>\n",
       "      <th>5</th>\n",
       "      <th>6</th>\n",
       "      <th>7</th>\n",
       "      <th>8</th>\n",
       "      <th>9</th>\n",
       "      <th>...</th>\n",
       "      <th>22</th>\n",
       "      <th>23</th>\n",
       "      <th>24</th>\n",
       "      <th>25</th>\n",
       "      <th>26</th>\n",
       "      <th>27</th>\n",
       "      <th>28</th>\n",
       "      <th>29</th>\n",
       "      <th>30</th>\n",
       "      <th>31</th>\n",
       "    </tr>\n",
       "  </thead>\n",
       "  <tbody>\n",
       "    <tr>\n",
       "      <td>0</td>\n",
       "      <td>9.339192</td>\n",
       "      <td>10.018954</td>\n",
       "      <td>0.000000</td>\n",
       "      <td>2.627435</td>\n",
       "      <td>6.451214</td>\n",
       "      <td>0.000000</td>\n",
       "      <td>7.543199</td>\n",
       "      <td>20.827024</td>\n",
       "      <td>22.909838</td>\n",
       "      <td>0.0</td>\n",
       "      <td>...</td>\n",
       "      <td>18.976078</td>\n",
       "      <td>0.0</td>\n",
       "      <td>0.000000</td>\n",
       "      <td>29.173704</td>\n",
       "      <td>31.379627</td>\n",
       "      <td>0.0</td>\n",
       "      <td>12.454443</td>\n",
       "      <td>16.090012</td>\n",
       "      <td>0.000000</td>\n",
       "      <td>2.254439</td>\n",
       "    </tr>\n",
       "    <tr>\n",
       "      <td>1</td>\n",
       "      <td>12.550483</td>\n",
       "      <td>0.000000</td>\n",
       "      <td>3.035367</td>\n",
       "      <td>5.369245</td>\n",
       "      <td>0.000000</td>\n",
       "      <td>0.609906</td>\n",
       "      <td>0.258413</td>\n",
       "      <td>10.397615</td>\n",
       "      <td>19.228085</td>\n",
       "      <td>0.0</td>\n",
       "      <td>...</td>\n",
       "      <td>0.000000</td>\n",
       "      <td>0.0</td>\n",
       "      <td>2.616300</td>\n",
       "      <td>10.812126</td>\n",
       "      <td>17.254843</td>\n",
       "      <td>0.0</td>\n",
       "      <td>6.435759</td>\n",
       "      <td>15.439883</td>\n",
       "      <td>0.000000</td>\n",
       "      <td>0.000000</td>\n",
       "    </tr>\n",
       "    <tr>\n",
       "      <td>2</td>\n",
       "      <td>9.242122</td>\n",
       "      <td>0.000000</td>\n",
       "      <td>1.497475</td>\n",
       "      <td>20.345980</td>\n",
       "      <td>11.161327</td>\n",
       "      <td>11.088881</td>\n",
       "      <td>0.000000</td>\n",
       "      <td>18.590588</td>\n",
       "      <td>23.979483</td>\n",
       "      <td>0.0</td>\n",
       "      <td>...</td>\n",
       "      <td>14.168651</td>\n",
       "      <td>0.0</td>\n",
       "      <td>10.227740</td>\n",
       "      <td>23.042364</td>\n",
       "      <td>16.817210</td>\n",
       "      <td>0.0</td>\n",
       "      <td>14.041547</td>\n",
       "      <td>9.885569</td>\n",
       "      <td>8.839575</td>\n",
       "      <td>0.603229</td>\n",
       "    </tr>\n",
       "    <tr>\n",
       "      <td>3</td>\n",
       "      <td>18.214937</td>\n",
       "      <td>1.516009</td>\n",
       "      <td>0.000000</td>\n",
       "      <td>9.282221</td>\n",
       "      <td>3.436129</td>\n",
       "      <td>9.493133</td>\n",
       "      <td>0.000000</td>\n",
       "      <td>9.826456</td>\n",
       "      <td>24.030056</td>\n",
       "      <td>0.0</td>\n",
       "      <td>...</td>\n",
       "      <td>15.151364</td>\n",
       "      <td>0.0</td>\n",
       "      <td>0.081571</td>\n",
       "      <td>12.460374</td>\n",
       "      <td>3.737251</td>\n",
       "      <td>0.0</td>\n",
       "      <td>14.423039</td>\n",
       "      <td>10.069696</td>\n",
       "      <td>0.000000</td>\n",
       "      <td>0.000000</td>\n",
       "    </tr>\n",
       "    <tr>\n",
       "      <td>4</td>\n",
       "      <td>24.767120</td>\n",
       "      <td>0.000000</td>\n",
       "      <td>5.218727</td>\n",
       "      <td>4.619105</td>\n",
       "      <td>0.000000</td>\n",
       "      <td>9.133290</td>\n",
       "      <td>0.000000</td>\n",
       "      <td>7.315839</td>\n",
       "      <td>32.346275</td>\n",
       "      <td>0.0</td>\n",
       "      <td>...</td>\n",
       "      <td>13.219506</td>\n",
       "      <td>0.0</td>\n",
       "      <td>0.000000</td>\n",
       "      <td>1.286303</td>\n",
       "      <td>1.929151</td>\n",
       "      <td>0.0</td>\n",
       "      <td>13.243887</td>\n",
       "      <td>15.685650</td>\n",
       "      <td>0.000000</td>\n",
       "      <td>0.000000</td>\n",
       "    </tr>\n",
       "    <tr>\n",
       "      <td>...</td>\n",
       "      <td>...</td>\n",
       "      <td>...</td>\n",
       "      <td>...</td>\n",
       "      <td>...</td>\n",
       "      <td>...</td>\n",
       "      <td>...</td>\n",
       "      <td>...</td>\n",
       "      <td>...</td>\n",
       "      <td>...</td>\n",
       "      <td>...</td>\n",
       "      <td>...</td>\n",
       "      <td>...</td>\n",
       "      <td>...</td>\n",
       "      <td>...</td>\n",
       "      <td>...</td>\n",
       "      <td>...</td>\n",
       "      <td>...</td>\n",
       "      <td>...</td>\n",
       "      <td>...</td>\n",
       "      <td>...</td>\n",
       "      <td>...</td>\n",
       "    </tr>\n",
       "    <tr>\n",
       "      <td>1595</td>\n",
       "      <td>28.926544</td>\n",
       "      <td>0.000000</td>\n",
       "      <td>0.000000</td>\n",
       "      <td>22.711203</td>\n",
       "      <td>3.550816</td>\n",
       "      <td>24.632486</td>\n",
       "      <td>5.896880</td>\n",
       "      <td>5.514254</td>\n",
       "      <td>31.556992</td>\n",
       "      <td>0.0</td>\n",
       "      <td>...</td>\n",
       "      <td>17.589975</td>\n",
       "      <td>0.0</td>\n",
       "      <td>1.604302</td>\n",
       "      <td>22.923020</td>\n",
       "      <td>15.587934</td>\n",
       "      <td>0.0</td>\n",
       "      <td>18.459837</td>\n",
       "      <td>19.669931</td>\n",
       "      <td>0.000000</td>\n",
       "      <td>0.000000</td>\n",
       "    </tr>\n",
       "    <tr>\n",
       "      <td>1596</td>\n",
       "      <td>4.654681</td>\n",
       "      <td>0.000000</td>\n",
       "      <td>0.000000</td>\n",
       "      <td>0.209598</td>\n",
       "      <td>5.604252</td>\n",
       "      <td>0.000000</td>\n",
       "      <td>0.000000</td>\n",
       "      <td>6.168780</td>\n",
       "      <td>11.964777</td>\n",
       "      <td>0.0</td>\n",
       "      <td>...</td>\n",
       "      <td>14.117071</td>\n",
       "      <td>0.0</td>\n",
       "      <td>7.641332</td>\n",
       "      <td>8.810531</td>\n",
       "      <td>0.000000</td>\n",
       "      <td>0.0</td>\n",
       "      <td>9.702170</td>\n",
       "      <td>0.000000</td>\n",
       "      <td>0.000000</td>\n",
       "      <td>0.000000</td>\n",
       "    </tr>\n",
       "    <tr>\n",
       "      <td>1597</td>\n",
       "      <td>33.318207</td>\n",
       "      <td>0.000000</td>\n",
       "      <td>2.848253</td>\n",
       "      <td>20.914455</td>\n",
       "      <td>0.000000</td>\n",
       "      <td>18.654629</td>\n",
       "      <td>2.865959</td>\n",
       "      <td>11.913595</td>\n",
       "      <td>47.384100</td>\n",
       "      <td>0.0</td>\n",
       "      <td>...</td>\n",
       "      <td>19.176065</td>\n",
       "      <td>0.0</td>\n",
       "      <td>0.000000</td>\n",
       "      <td>6.822701</td>\n",
       "      <td>17.310982</td>\n",
       "      <td>0.0</td>\n",
       "      <td>20.392124</td>\n",
       "      <td>18.738768</td>\n",
       "      <td>0.961496</td>\n",
       "      <td>0.000000</td>\n",
       "    </tr>\n",
       "    <tr>\n",
       "      <td>1598</td>\n",
       "      <td>13.027037</td>\n",
       "      <td>0.000000</td>\n",
       "      <td>13.411426</td>\n",
       "      <td>0.000000</td>\n",
       "      <td>0.000000</td>\n",
       "      <td>0.000000</td>\n",
       "      <td>0.000000</td>\n",
       "      <td>3.065042</td>\n",
       "      <td>26.763588</td>\n",
       "      <td>0.0</td>\n",
       "      <td>...</td>\n",
       "      <td>10.572303</td>\n",
       "      <td>0.0</td>\n",
       "      <td>0.000000</td>\n",
       "      <td>1.962241</td>\n",
       "      <td>7.175931</td>\n",
       "      <td>0.0</td>\n",
       "      <td>1.512890</td>\n",
       "      <td>19.547436</td>\n",
       "      <td>0.000000</td>\n",
       "      <td>6.979639</td>\n",
       "    </tr>\n",
       "    <tr>\n",
       "      <td>1599</td>\n",
       "      <td>11.000245</td>\n",
       "      <td>0.000000</td>\n",
       "      <td>7.635166</td>\n",
       "      <td>1.791319</td>\n",
       "      <td>0.000000</td>\n",
       "      <td>4.309265</td>\n",
       "      <td>0.000000</td>\n",
       "      <td>0.000000</td>\n",
       "      <td>20.755285</td>\n",
       "      <td>0.0</td>\n",
       "      <td>...</td>\n",
       "      <td>9.705979</td>\n",
       "      <td>0.0</td>\n",
       "      <td>0.000000</td>\n",
       "      <td>0.000000</td>\n",
       "      <td>5.427030</td>\n",
       "      <td>0.0</td>\n",
       "      <td>0.000000</td>\n",
       "      <td>2.538149</td>\n",
       "      <td>11.696531</td>\n",
       "      <td>10.408310</td>\n",
       "    </tr>\n",
       "  </tbody>\n",
       "</table>\n",
       "<p>1600 rows × 32 columns</p>\n",
       "</div>"
      ],
      "text/plain": [
       "             0          1          2          3          4          5   \\\n",
       "0      9.339192  10.018954   0.000000   2.627435   6.451214   0.000000   \n",
       "1     12.550483   0.000000   3.035367   5.369245   0.000000   0.609906   \n",
       "2      9.242122   0.000000   1.497475  20.345980  11.161327  11.088881   \n",
       "3     18.214937   1.516009   0.000000   9.282221   3.436129   9.493133   \n",
       "4     24.767120   0.000000   5.218727   4.619105   0.000000   9.133290   \n",
       "...         ...        ...        ...        ...        ...        ...   \n",
       "1595  28.926544   0.000000   0.000000  22.711203   3.550816  24.632486   \n",
       "1596   4.654681   0.000000   0.000000   0.209598   5.604252   0.000000   \n",
       "1597  33.318207   0.000000   2.848253  20.914455   0.000000  18.654629   \n",
       "1598  13.027037   0.000000  13.411426   0.000000   0.000000   0.000000   \n",
       "1599  11.000245   0.000000   7.635166   1.791319   0.000000   4.309265   \n",
       "\n",
       "            6          7          8    9   ...         22   23         24  \\\n",
       "0     7.543199  20.827024  22.909838  0.0  ...  18.976078  0.0   0.000000   \n",
       "1     0.258413  10.397615  19.228085  0.0  ...   0.000000  0.0   2.616300   \n",
       "2     0.000000  18.590588  23.979483  0.0  ...  14.168651  0.0  10.227740   \n",
       "3     0.000000   9.826456  24.030056  0.0  ...  15.151364  0.0   0.081571   \n",
       "4     0.000000   7.315839  32.346275  0.0  ...  13.219506  0.0   0.000000   \n",
       "...        ...        ...        ...  ...  ...        ...  ...        ...   \n",
       "1595  5.896880   5.514254  31.556992  0.0  ...  17.589975  0.0   1.604302   \n",
       "1596  0.000000   6.168780  11.964777  0.0  ...  14.117071  0.0   7.641332   \n",
       "1597  2.865959  11.913595  47.384100  0.0  ...  19.176065  0.0   0.000000   \n",
       "1598  0.000000   3.065042  26.763588  0.0  ...  10.572303  0.0   0.000000   \n",
       "1599  0.000000   0.000000  20.755285  0.0  ...   9.705979  0.0   0.000000   \n",
       "\n",
       "             25         26   27         28         29         30         31  \n",
       "0     29.173704  31.379627  0.0  12.454443  16.090012   0.000000   2.254439  \n",
       "1     10.812126  17.254843  0.0   6.435759  15.439883   0.000000   0.000000  \n",
       "2     23.042364  16.817210  0.0  14.041547   9.885569   8.839575   0.603229  \n",
       "3     12.460374   3.737251  0.0  14.423039  10.069696   0.000000   0.000000  \n",
       "4      1.286303   1.929151  0.0  13.243887  15.685650   0.000000   0.000000  \n",
       "...         ...        ...  ...        ...        ...        ...        ...  \n",
       "1595  22.923020  15.587934  0.0  18.459837  19.669931   0.000000   0.000000  \n",
       "1596   8.810531   0.000000  0.0   9.702170   0.000000   0.000000   0.000000  \n",
       "1597   6.822701  17.310982  0.0  20.392124  18.738768   0.961496   0.000000  \n",
       "1598   1.962241   7.175931  0.0   1.512890  19.547436   0.000000   6.979639  \n",
       "1599   0.000000   5.427030  0.0   0.000000   2.538149  11.696531  10.408310  \n",
       "\n",
       "[1600 rows x 32 columns]"
      ]
     },
     "execution_count": 182,
     "metadata": {},
     "output_type": "execute_result"
    }
   ],
   "source": [
    "good_data_unseen1"
   ]
  },
  {
   "cell_type": "code",
   "execution_count": 173,
   "metadata": {},
   "outputs": [
    {
     "data": {
      "text/plain": [
       "(1600, 32)"
      ]
     },
     "execution_count": 173,
     "metadata": {},
     "output_type": "execute_result"
    }
   ],
   "source": [
    "good_data_unseen1.shape"
   ]
  },
  {
   "cell_type": "code",
   "execution_count": 174,
   "metadata": {},
   "outputs": [],
   "source": [
    "y_test_good1=np.repeat(0,1600)"
   ]
  },
  {
   "cell_type": "code",
   "execution_count": 175,
   "metadata": {},
   "outputs": [
    {
     "name": "stdout",
     "output_type": "stream",
     "text": [
      "50/50 [==============================] - 1s 4ms/step\n"
     ]
    }
   ],
   "source": [
    "y_pred1 = model.predict(good_data_unseen1)"
   ]
  },
  {
   "cell_type": "code",
   "execution_count": 177,
   "metadata": {},
   "outputs": [
    {
     "data": {
      "text/plain": [
       "[<matplotlib.lines.Line2D at 0x156ee02d0>]"
      ]
     },
     "execution_count": 177,
     "metadata": {},
     "output_type": "execute_result"
    },
    {
     "data": {
      "image/png": "[encoded data removed]",
      "text/plain": [
       "<Figure size 432x288 with 1 Axes>"
      ]
     },
     "metadata": {
      "needs_background": "light"
     },
     "output_type": "display_data"
    }
   ],
   "source": [
    "#plt.figure(figsize=(9, 9))\n",
    "plt.axhline(y=0.46, color='BLACK', linestyle='dashed')\n",
    "plt.plot(y_pred1,'.')"
   ]
  },
  {
   "cell_type": "code",
   "execution_count": 178,
   "metadata": {},
   "outputs": [],
   "source": [
    "y_pred1=np.rint(y_pred1)"
   ]
  },
  {
   "cell_type": "code",
   "execution_count": 179,
   "metadata": {},
   "outputs": [
    {
     "data": {
      "text/plain": [
       "array([[0.],\n",
       "       [0.],\n",
       "       [0.],\n",
       "       ...,\n",
       "       [0.],\n",
       "       [0.],\n",
       "       [0.]], dtype=float32)"
      ]
     },
     "execution_count": 179,
     "metadata": {},
     "output_type": "execute_result"
    }
   ],
   "source": [
    "y_pred1"
   ]
  },
  {
   "cell_type": "code",
   "execution_count": 180,
   "metadata": {},
   "outputs": [
    {
     "data": {
      "text/plain": [
       "array([[1517,   83],\n",
       "       [   0,    0]])"
      ]
     },
     "execution_count": 180,
     "metadata": {},
     "output_type": "execute_result"
    }
   ],
   "source": [
    "cf_matrix = confusion_matrix(y_test_good1, y_pred1)\n",
    "cf_matrix"
   ]
  },
  {
   "cell_type": "markdown",
   "metadata": {},
   "source": [
    "## Predicting Different Types of Noise - Second layer"
   ]
  },
  {
   "cell_type": "code",
   "execution_count": 144,
   "metadata": {},
   "outputs": [],
   "source": [
    "noisy_data_first_type2=pd.read_csv(\"noisy_samples_first_type_second_layer.csv\", header=None)\n",
    "noisy_data_second_type2=pd.read_csv(\"noisy_samples_second_type_second_layer.csv\", header=None)\n",
    "noisy_data_third_type2=pd.read_csv(\"noisy_samples_third_type_second_layer.csv\", header=None)\n",
    "noisy_data_fourth_type2=pd.read_csv(\"noisy_samples_fourth_type_second_layer.csv\", header=None)\n",
    "noisy_data_first_type2 = noisy_data_first_type2.drop(columns=10)\n",
    "noisy_data_second_type2 = noisy_data_second_type2.drop(columns=10)\n",
    "noisy_data_third_type2 = noisy_data_third_type2.drop(columns=10)\n",
    "noisy_data_fourth_type2 = noisy_data_fourth_type2.drop(columns=10)\n"
   ]
  },
  {
   "cell_type": "code",
   "execution_count": 181,
   "metadata": {},
   "outputs": [
    {
     "data": {
      "text/html": [
       "<div>\n",
       "<style scoped>\n",
       "    .dataframe tbody tr th:only-of-type {\n",
       "        vertical-align: middle;\n",
       "    }\n",
       "\n",
       "    .dataframe tbody tr th {\n",
       "        vertical-align: top;\n",
       "    }\n",
       "\n",
       "    .dataframe thead th {\n",
       "        text-align: right;\n",
       "    }\n",
       "</style>\n",
       "<table border=\"1\" class=\"dataframe\">\n",
       "  <thead>\n",
       "    <tr style=\"text-align: right;\">\n",
       "      <th></th>\n",
       "      <th>0</th>\n",
       "      <th>1</th>\n",
       "      <th>2</th>\n",
       "      <th>3</th>\n",
       "      <th>4</th>\n",
       "      <th>5</th>\n",
       "      <th>6</th>\n",
       "      <th>7</th>\n",
       "      <th>8</th>\n",
       "      <th>9</th>\n",
       "    </tr>\n",
       "  </thead>\n",
       "  <tbody>\n",
       "    <tr>\n",
       "      <td>0</td>\n",
       "      <td>0.111821</td>\n",
       "      <td>0.177484</td>\n",
       "      <td>0.020996</td>\n",
       "      <td>0.100483</td>\n",
       "      <td>0.045237</td>\n",
       "      <td>0.060381</td>\n",
       "      <td>0.121685</td>\n",
       "      <td>0.178637</td>\n",
       "      <td>0.121241</td>\n",
       "      <td>0.062035</td>\n",
       "    </tr>\n",
       "    <tr>\n",
       "      <td>1</td>\n",
       "      <td>0.111814</td>\n",
       "      <td>0.177607</td>\n",
       "      <td>0.021107</td>\n",
       "      <td>0.100516</td>\n",
       "      <td>0.045352</td>\n",
       "      <td>0.060574</td>\n",
       "      <td>0.121814</td>\n",
       "      <td>0.177930</td>\n",
       "      <td>0.121193</td>\n",
       "      <td>0.062093</td>\n",
       "    </tr>\n",
       "    <tr>\n",
       "      <td>2</td>\n",
       "      <td>0.111900</td>\n",
       "      <td>0.177747</td>\n",
       "      <td>0.020933</td>\n",
       "      <td>0.100526</td>\n",
       "      <td>0.045148</td>\n",
       "      <td>0.060485</td>\n",
       "      <td>0.121800</td>\n",
       "      <td>0.178155</td>\n",
       "      <td>0.121371</td>\n",
       "      <td>0.061935</td>\n",
       "    </tr>\n",
       "    <tr>\n",
       "      <td>3</td>\n",
       "      <td>0.111813</td>\n",
       "      <td>0.177743</td>\n",
       "      <td>0.020947</td>\n",
       "      <td>0.100507</td>\n",
       "      <td>0.045157</td>\n",
       "      <td>0.060424</td>\n",
       "      <td>0.121775</td>\n",
       "      <td>0.178252</td>\n",
       "      <td>0.121388</td>\n",
       "      <td>0.061994</td>\n",
       "    </tr>\n",
       "    <tr>\n",
       "      <td>4</td>\n",
       "      <td>0.111879</td>\n",
       "      <td>0.177764</td>\n",
       "      <td>0.020953</td>\n",
       "      <td>0.100473</td>\n",
       "      <td>0.045180</td>\n",
       "      <td>0.060426</td>\n",
       "      <td>0.121878</td>\n",
       "      <td>0.178268</td>\n",
       "      <td>0.121298</td>\n",
       "      <td>0.061881</td>\n",
       "    </tr>\n",
       "    <tr>\n",
       "      <td>...</td>\n",
       "      <td>...</td>\n",
       "      <td>...</td>\n",
       "      <td>...</td>\n",
       "      <td>...</td>\n",
       "      <td>...</td>\n",
       "      <td>...</td>\n",
       "      <td>...</td>\n",
       "      <td>...</td>\n",
       "      <td>...</td>\n",
       "      <td>...</td>\n",
       "    </tr>\n",
       "    <tr>\n",
       "      <td>75</td>\n",
       "      <td>0.111812</td>\n",
       "      <td>0.177611</td>\n",
       "      <td>0.021035</td>\n",
       "      <td>0.100493</td>\n",
       "      <td>0.045274</td>\n",
       "      <td>0.060458</td>\n",
       "      <td>0.121773</td>\n",
       "      <td>0.178306</td>\n",
       "      <td>0.121207</td>\n",
       "      <td>0.062032</td>\n",
       "    </tr>\n",
       "    <tr>\n",
       "      <td>76</td>\n",
       "      <td>0.111846</td>\n",
       "      <td>0.177617</td>\n",
       "      <td>0.020960</td>\n",
       "      <td>0.100461</td>\n",
       "      <td>0.045197</td>\n",
       "      <td>0.060362</td>\n",
       "      <td>0.121747</td>\n",
       "      <td>0.178592</td>\n",
       "      <td>0.121256</td>\n",
       "      <td>0.061962</td>\n",
       "    </tr>\n",
       "    <tr>\n",
       "      <td>77</td>\n",
       "      <td>0.111860</td>\n",
       "      <td>0.177765</td>\n",
       "      <td>0.020909</td>\n",
       "      <td>0.100489</td>\n",
       "      <td>0.045124</td>\n",
       "      <td>0.060383</td>\n",
       "      <td>0.121787</td>\n",
       "      <td>0.178440</td>\n",
       "      <td>0.121334</td>\n",
       "      <td>0.061910</td>\n",
       "    </tr>\n",
       "    <tr>\n",
       "      <td>78</td>\n",
       "      <td>0.111893</td>\n",
       "      <td>0.177661</td>\n",
       "      <td>0.020939</td>\n",
       "      <td>0.100488</td>\n",
       "      <td>0.045167</td>\n",
       "      <td>0.060415</td>\n",
       "      <td>0.121811</td>\n",
       "      <td>0.178382</td>\n",
       "      <td>0.121336</td>\n",
       "      <td>0.061908</td>\n",
       "    </tr>\n",
       "    <tr>\n",
       "      <td>79</td>\n",
       "      <td>0.111824</td>\n",
       "      <td>0.177573</td>\n",
       "      <td>0.021022</td>\n",
       "      <td>0.100493</td>\n",
       "      <td>0.045261</td>\n",
       "      <td>0.060441</td>\n",
       "      <td>0.121759</td>\n",
       "      <td>0.178380</td>\n",
       "      <td>0.121226</td>\n",
       "      <td>0.062022</td>\n",
       "    </tr>\n",
       "  </tbody>\n",
       "</table>\n",
       "<p>80 rows × 10 columns</p>\n",
       "</div>"
      ],
      "text/plain": [
       "           0         1         2         3         4         5         6  \\\n",
       "0   0.111821  0.177484  0.020996  0.100483  0.045237  0.060381  0.121685   \n",
       "1   0.111814  0.177607  0.021107  0.100516  0.045352  0.060574  0.121814   \n",
       "2   0.111900  0.177747  0.020933  0.100526  0.045148  0.060485  0.121800   \n",
       "3   0.111813  0.177743  0.020947  0.100507  0.045157  0.060424  0.121775   \n",
       "4   0.111879  0.177764  0.020953  0.100473  0.045180  0.060426  0.121878   \n",
       "..       ...       ...       ...       ...       ...       ...       ...   \n",
       "75  0.111812  0.177611  0.021035  0.100493  0.045274  0.060458  0.121773   \n",
       "76  0.111846  0.177617  0.020960  0.100461  0.045197  0.060362  0.121747   \n",
       "77  0.111860  0.177765  0.020909  0.100489  0.045124  0.060383  0.121787   \n",
       "78  0.111893  0.177661  0.020939  0.100488  0.045167  0.060415  0.121811   \n",
       "79  0.111824  0.177573  0.021022  0.100493  0.045261  0.060441  0.121759   \n",
       "\n",
       "           7         8         9  \n",
       "0   0.178637  0.121241  0.062035  \n",
       "1   0.177930  0.121193  0.062093  \n",
       "2   0.178155  0.121371  0.061935  \n",
       "3   0.178252  0.121388  0.061994  \n",
       "4   0.178268  0.121298  0.061881  \n",
       "..       ...       ...       ...  \n",
       "75  0.178306  0.121207  0.062032  \n",
       "76  0.178592  0.121256  0.061962  \n",
       "77  0.178440  0.121334  0.061910  \n",
       "78  0.178382  0.121336  0.061908  \n",
       "79  0.178380  0.121226  0.062022  \n",
       "\n",
       "[80 rows x 10 columns]"
      ]
     },
     "execution_count": 181,
     "metadata": {},
     "output_type": "execute_result"
    }
   ],
   "source": [
    "noisy_data_second_type2"
   ]
  },
  {
   "cell_type": "code",
   "execution_count": 145,
   "metadata": {},
   "outputs": [
    {
     "name": "stdout",
     "output_type": "stream",
     "text": [
      "3/3 [==============================] - 0s 4ms/step\n",
      "3/3 [==============================] - 0s 8ms/step\n",
      "3/3 [==============================] - 0s 4ms/step\n",
      "3/3 [==============================] - 0s 6ms/step\n"
     ]
    }
   ],
   "source": [
    "pred_noisy_1_2 = model2.predict(noisy_data_first_type2)\n",
    "pred_noisy_2_2 = model2.predict(noisy_data_second_type2)\n",
    "pred_noisy_3_2 = model2.predict(noisy_data_third_type2)\n",
    "pred_noisy_4_2 = model2.predict(noisy_data_fourth_type2)"
   ]
  },
  {
   "cell_type": "code",
   "execution_count": 146,
   "metadata": {},
   "outputs": [
    {
     "data": {
      "text/plain": [
       "<function matplotlib.pyplot.show(*args, **kw)>"
      ]
     },
     "execution_count": 146,
     "metadata": {},
     "output_type": "execute_result"
    },
    {
     "data": {
      "image/png": "[encoded data removed]",
      "text/plain": [
       "<Figure size 648x648 with 1 Axes>"
      ]
     },
     "metadata": {
      "needs_background": "light"
     },
     "output_type": "display_data"
    }
   ],
   "source": [
    "plt.figure(figsize=(9, 9))\n",
    "plt.plot(pred_noisy_1_2,'.',color='red',label=\"First type\")\n",
    "plt.plot(pred_noisy_2_2,'.',color='green',label=\"Second type\")\n",
    "plt.plot(pred_noisy_3_2,'.',color='blue',label=\"Third type\")\n",
    "plt.plot(pred_noisy_4_2,'.',color='yellow',label=\"Fourth type\")\n",
    "plt.axhline(y=0.46, color='BLACK', linestyle='dashed')\n",
    "plt.legend()\n",
    "plt.show\n"
   ]
  },
  {
   "cell_type": "code",
   "execution_count": 147,
   "metadata": {},
   "outputs": [],
   "source": [
    "## First Type of noise"
   ]
  },
  {
   "cell_type": "code",
   "execution_count": 148,
   "metadata": {},
   "outputs": [],
   "source": [
    "pred_noisy_1=np.rint(pred_noisy_1_2)\n",
    "y_test_good=np.repeat(1,80)\n",
    "cf_matrix = confusion_matrix(y_test_good, pred_noisy_1)"
   ]
  },
  {
   "cell_type": "code",
   "execution_count": 149,
   "metadata": {},
   "outputs": [
    {
     "data": {
      "text/plain": [
       "array([[ 0,  0],\n",
       "       [72,  8]])"
      ]
     },
     "execution_count": 149,
     "metadata": {},
     "output_type": "execute_result"
    }
   ],
   "source": [
    "cf_matrix #72 False Negatives, 8 True Positives"
   ]
  },
  {
   "cell_type": "markdown",
   "metadata": {},
   "source": [
    "The Second  Layer is predicting 0% of the anomalies (0% True Positives) for the 2nd, 3rd and 4th type of noise. It is predicting 8% of the anomalies of the 1st type of noise."
   ]
  },
  {
   "cell_type": "code",
   "execution_count": null,
   "metadata": {},
   "outputs": [],
   "source": [
    "# ALL"
   ]
  },
  {
   "cell_type": "code",
   "execution_count": 158,
   "metadata": {},
   "outputs": [
    {
     "data": {
      "text/plain": [
       "<function matplotlib.pyplot.show(*args, **kw)>"
      ]
     },
     "execution_count": 158,
     "metadata": {},
     "output_type": "execute_result"
    },
    {
     "data": {
      "image/png": "[encoded data removed]",
      "text/plain": [
       "<Figure size 648x648 with 1 Axes>"
      ]
     },
     "metadata": {
      "needs_background": "light"
     },
     "output_type": "display_data"
    }
   ],
   "source": [
    "y_pred3\n",
    "plt.figure(figsize=(9, 9))\n",
    "plt.plot(y_pred3,'.',color='green',label=\"Good data\")\n",
    "plt.plot(pred_noisy_1_2,'.',color='red',label=\"First type\")\n",
    "plt.plot(pred_noisy_2_2,'.',color='lime',label=\"Second type\")\n",
    "plt.plot(pred_noisy_3_2,'.',color='orange',label=\"Third type\")\n",
    "plt.plot(pred_noisy_4_2,'.',color='pink',label=\"Fourth type\")\n",
    "plt.axhline(y=0.46, color='BLACK', linestyle='dashed')\n",
    "plt.legend()\n",
    "plt.show\n",
    "\n"
   ]
  },
  {
   "cell_type": "code",
   "execution_count": null,
   "metadata": {},
   "outputs": [],
   "source": []
  }
 ],
 "metadata": {
  "kernelspec": {
   "display_name": "firstEnv",
   "language": "python",
   "name": "firstenv"
  },
  "language_info": {
   "codemirror_mode": {
    "name": "ipython",
    "version": 3
   },
   "file_extension": ".py",
   "mimetype": "text/x-python",
   "name": "python",
   "nbconvert_exporter": "python",
   "pygments_lexer": "ipython3",
   "version": "3.7.13"
  }
 },
 "nbformat": 4,
 "nbformat_minor": 2
}
